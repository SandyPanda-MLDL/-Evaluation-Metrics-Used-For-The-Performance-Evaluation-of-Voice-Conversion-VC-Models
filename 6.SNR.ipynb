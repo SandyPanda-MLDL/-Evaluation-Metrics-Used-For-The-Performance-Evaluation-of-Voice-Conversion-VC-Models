{
  "nbformat": 4,
  "nbformat_minor": 0,
  "metadata": {
    "colab": {
      "name": "SNR_final.ipynb",
      "provenance": [],
      "toc_visible": true
    },
    "kernelspec": {
      "name": "python3",
      "display_name": "Python 3"
    },
    "language_info": {
      "name": "python"
    }
  },
  "cells": [
    {
      "cell_type": "markdown",
      "source": [
        "**Loading dataset from google drive**"
      ],
      "metadata": {
        "id": "5FMtH8or3BYu"
      }
    },
    {
      "cell_type": "code",
      "source": [
        "from google_drive_downloader.google_drive_downloader import GoogleDriveDownloader as gdd\n",
        "gdd.download_file_from_google_drive(file_id='128wwBM1xqg3_-b1jYorkqDLq6swMatk8', dest_path='/content/Dataset',unzip=True)"
      ],
      "metadata": {
        "id": "SaSrveQK_DLk"
      },
      "execution_count": null,
      "outputs": []
    },
    {
      "cell_type": "markdown",
      "source": [
        "**Import relevant libraries**"
      ],
      "metadata": {
        "id": "UudIPjwRyMKL"
      }
    },
    {
      "cell_type": "code",
      "source": [
        "import os\n",
        "import math\n",
        "import glob\n",
        "import librosa\n",
        "#import pyworld\n",
        "#import pysptk\n",
        "import numpy as np\n",
        "import matplotlib.pyplot as plot"
      ],
      "metadata": {
        "id": "QEY5EmIGCyiw"
      },
      "execution_count": null,
      "outputs": []
    },
    {
      "cell_type": "code",
      "source": [
        "orig_path='/content/in male voice Bengali and Odia/R1.Regional_Dataset_Male_Voice_in_Bengali'\n",
        "synth_path='/content/in male voice Bengali and Odia/converted_Bengali'"
      ],
      "metadata": {
        "id": "jXr3nspEM64H"
      },
      "execution_count": null,
      "outputs": []
    },
    {
      "cell_type": "markdown",
      "source": [
        "**Take all the file paths in a list**"
      ],
      "metadata": {
        "id": "RXL8k55qyWUb"
      }
    },
    {
      "cell_type": "code",
      "source": [
        "wav_org=glob.glob(orig_path+'/*')\n",
        "wav_synth=glob.glob(synth_path+'/*')\n",
        "wav_org.sort()\n",
        "wav_synth.sort()\n",
        "#print(wav_org)\n",
        "#print(wav_synth)"
      ],
      "metadata": {
        "id": "6qPxliXe184U"
      },
      "execution_count": null,
      "outputs": []
    },
    {
      "cell_type": "markdown",
      "source": [
        "**SNR formula**\n",
        "\n",
        "SNR[dB]=10*log(RMSE(Signal)/RMSE(Noise))\n",
        "\n",
        "Finally Calculates the mean of all the files"
      ],
      "metadata": {
        "id": "e-uoH20wyh4S"
      }
    },
    {
      "cell_type": "code",
      "source": [
        "length=len(wav_org)\n",
        "snr=[]\n",
        "for i in range(length):\n",
        "  wo,_=librosa.load(wav_org[i], sr=800)\n",
        "  ws,_=librosa.load(wav_synth[i],sr=800)\n",
        "  a=math.sqrt(np.mean(wo**2))\n",
        "  b=math.sqrt(np.mean(ws**2))\n",
        "  snr.append(10*np.log10(a/b))\n",
        "print(np.mean(snr))  \n"
      ],
      "metadata": {
        "colab": {
          "base_uri": "https://localhost:8080/"
        },
        "id": "nWo-UcldbcW3",
        "outputId": "ec8cddd0-2158-495b-cce0-089a5fb5b64c"
      },
      "execution_count": null,
      "outputs": [
        {
          "output_type": "stream",
          "name": "stdout",
          "text": [
            "2.1998517427593827\n"
          ]
        }
      ]
    }
  ]
}