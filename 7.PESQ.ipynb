{
  "nbformat": 4,
  "nbformat_minor": 0,
  "metadata": {
    "colab": {
      "name": "PESQ_Final.ipynb",
      "provenance": []
    },
    "kernelspec": {
      "name": "python3",
      "display_name": "Python 3"
    },
    "language_info": {
      "name": "python"
    }
  },
  "cells": [
    {
      "cell_type": "markdown",
      "source": [
        "**PESQ library available for python**\n",
        "\n",
        "Used only for evaluation purposes"
      ],
      "metadata": {
        "id": "UD3RFaxzzm4R"
      }
    },
    {
      "cell_type": "code",
      "execution_count": null,
      "metadata": {
        "colab": {
          "base_uri": "https://localhost:8080/"
        },
        "id": "fAqUuICvkwRa",
        "outputId": "9d7c1dcf-3730-4c01-f12c-712f52a397ea"
      },
      "outputs": [
        {
          "output_type": "stream",
          "name": "stdout",
          "text": [
            "Requirement already satisfied: pypesq in /usr/local/lib/python3.7/dist-packages (1.2.4)\n",
            "Requirement already satisfied: numpy in /usr/local/lib/python3.7/dist-packages (from pypesq) (1.19.5)\n"
          ]
        }
      ],
      "source": [
        "pip install pypesq"
      ]
    },
    {
      "cell_type": "markdown",
      "source": [
        "**Load the Dataset from gdrive**"
      ],
      "metadata": {
        "id": "0HA0DCkIz4vB"
      }
    },
    {
      "cell_type": "code",
      "source": [
        "from google_drive_downloader.google_drive_downloader import GoogleDriveDownloader as gdd\n",
        "gdd.download_file_from_google_drive(file_id='128wwBM1xqg3_-b1jYorkqDLq6swMatk8', dest_path='/content/Dataset',unzip=True)"
      ],
      "metadata": {
        "colab": {
          "base_uri": "https://localhost:8080/"
        },
        "id": "OydZvhiopu4_",
        "outputId": "c6a80eea-4f99-493c-c0bf-08d2810e227d"
      },
      "execution_count": null,
      "outputs": [
        {
          "output_type": "stream",
          "name": "stdout",
          "text": [
            "Downloading 128wwBM1xqg3_-b1jYorkqDLq6swMatk8 into /content/Dataset... Done.\n",
            "Unzipping...Done.\n"
          ]
        }
      ]
    },
    {
      "cell_type": "markdown",
      "source": [
        "**Import relevant Libraries**"
      ],
      "metadata": {
        "id": "ut287bOJz-4g"
      }
    },
    {
      "cell_type": "code",
      "source": [
        "import os\n",
        "import math\n",
        "import glob\n",
        "import librosa\n",
        "#import pyworld\n",
        "#import pysptk\n",
        "import numpy as np\n",
        "import matplotlib.pyplot as plot"
      ],
      "metadata": {
        "id": "fsULydilp7Wu"
      },
      "execution_count": null,
      "outputs": []
    },
    {
      "cell_type": "code",
      "source": [
        "from pypesq import pesq"
      ],
      "metadata": {
        "id": "RVqrmx7tqXOQ"
      },
      "execution_count": null,
      "outputs": []
    },
    {
      "cell_type": "code",
      "source": [
        "orig_path='/content/in male voice Bengali and Odia/R1.Regional_Dataset_Male_Voice_in_Bengali'\n",
        "synth_path='/content/in male voice Bengali and Odia/converted_Bengali'"
      ],
      "metadata": {
        "id": "yDlTQoAxqETH"
      },
      "execution_count": null,
      "outputs": []
    },
    {
      "cell_type": "markdown",
      "source": [
        "**Storing the file paths in a list**"
      ],
      "metadata": {
        "id": "nJd_48OU0J-q"
      }
    },
    {
      "cell_type": "code",
      "source": [
        "wav_org=glob.glob(orig_path+'/*')\n",
        "wav_synth=glob.glob(synth_path+'/*')\n",
        "wav_org.sort()\n",
        "wav_synth.sort()\n"
      ],
      "metadata": {
        "id": "idxGVE_FqJAe"
      },
      "execution_count": null,
      "outputs": []
    },
    {
      "cell_type": "markdown",
      "source": [
        "**iterating over all the files and calculating PESQ the scores**\n",
        "\n",
        "Finally, storing the mean "
      ],
      "metadata": {
        "id": "7WWSpex10YKv"
      }
    },
    {
      "cell_type": "code",
      "source": [
        "length=len(wav_org)\n",
        "score=[]\n",
        "for i in range(length):\n",
        "  wo,_=librosa.load(wav_org[2], sr=8000)\n",
        "  ws,_=librosa.load(wav_synth[2],sr=8000)\n",
        "  n=len(wo)-len(ws)\n",
        "  if n>0:\n",
        "    ws=np.hstack((ws,np.zeros(abs(n))))\n",
        "  elif n<0:\n",
        "    wo=np.hstack((wo,np.zeros(abs(n))))\n",
        "  score.append(pesq(wo,ws,8000))\n",
        "print(np.mean(score))  \n"
      ],
      "metadata": {
        "colab": {
          "base_uri": "https://localhost:8080/"
        },
        "id": "0lkbT-zQqK6w",
        "outputId": "a244d6c9-b766-45d3-e627-f44292888cc4"
      },
      "execution_count": null,
      "outputs": [
        {
          "output_type": "stream",
          "name": "stdout",
          "text": [
            "1.2976621389389038\n"
          ]
        }
      ]
    }
  ]
}