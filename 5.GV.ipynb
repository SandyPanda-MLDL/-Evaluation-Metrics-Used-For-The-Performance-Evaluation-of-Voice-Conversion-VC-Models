{
  "nbformat": 4,
  "nbformat_minor": 0,
  "metadata": {
    "colab": {
      "name": "8.GV_final",
      "provenance": [],
      "collapsed_sections": []
    },
    "kernelspec": {
      "name": "python3",
      "display_name": "Python 3"
    },
    "language_info": {
      "name": "python"
    }
  },
  "cells": [
    {
      "cell_type": "markdown",
      "source": [
        "# GLOBAL VARIANCE"
      ],
      "metadata": {
        "id": "335ldQTzaMMM"
      }
    },
    {
      "cell_type": "markdown",
      "source": [
        "### Loading all the required libraries. \n",
        "\n"
      ],
      "metadata": {
        "id": "QA8uF2riaSpg"
      }
    },
    {
      "cell_type": "code",
      "metadata": {
        "id": "cbjN4Qt0gulm",
        "colab": {
          "base_uri": "https://localhost:8080/"
        },
        "outputId": "f6785f26-e863-48c4-88fd-ea749b97d8f7"
      },
      "source": [
        "!pip3 install pysptk"
      ],
      "execution_count": null,
      "outputs": [
        {
          "output_type": "stream",
          "name": "stdout",
          "text": [
            "Collecting pysptk\n",
            "  Downloading pysptk-0.1.20.tar.gz (410 kB)\n",
            "\u001b[?25l\r\u001b[K     |▉                               | 10 kB 22.0 MB/s eta 0:00:01\r\u001b[K     |█▋                              | 20 kB 22.2 MB/s eta 0:00:01\r\u001b[K     |██▍                             | 30 kB 12.4 MB/s eta 0:00:01\r\u001b[K     |███▏                            | 40 kB 10.4 MB/s eta 0:00:01\r\u001b[K     |████                            | 51 kB 4.6 MB/s eta 0:00:01\r\u001b[K     |████▉                           | 61 kB 5.4 MB/s eta 0:00:01\r\u001b[K     |█████▋                          | 71 kB 5.8 MB/s eta 0:00:01\r\u001b[K     |██████▍                         | 81 kB 6.0 MB/s eta 0:00:01\r\u001b[K     |███████▏                        | 92 kB 6.7 MB/s eta 0:00:01\r\u001b[K     |████████                        | 102 kB 5.4 MB/s eta 0:00:01\r\u001b[K     |████████▉                       | 112 kB 5.4 MB/s eta 0:00:01\r\u001b[K     |█████████▋                      | 122 kB 5.4 MB/s eta 0:00:01\r\u001b[K     |██████████▍                     | 133 kB 5.4 MB/s eta 0:00:01\r\u001b[K     |███████████▏                    | 143 kB 5.4 MB/s eta 0:00:01\r\u001b[K     |████████████                    | 153 kB 5.4 MB/s eta 0:00:01\r\u001b[K     |████████████▉                   | 163 kB 5.4 MB/s eta 0:00:01\r\u001b[K     |█████████████▋                  | 174 kB 5.4 MB/s eta 0:00:01\r\u001b[K     |██████████████▍                 | 184 kB 5.4 MB/s eta 0:00:01\r\u001b[K     |███████████████▏                | 194 kB 5.4 MB/s eta 0:00:01\r\u001b[K     |████████████████                | 204 kB 5.4 MB/s eta 0:00:01\r\u001b[K     |████████████████▊               | 215 kB 5.4 MB/s eta 0:00:01\r\u001b[K     |█████████████████▋              | 225 kB 5.4 MB/s eta 0:00:01\r\u001b[K     |██████████████████▍             | 235 kB 5.4 MB/s eta 0:00:01\r\u001b[K     |███████████████████▏            | 245 kB 5.4 MB/s eta 0:00:01\r\u001b[K     |████████████████████            | 256 kB 5.4 MB/s eta 0:00:01\r\u001b[K     |████████████████████▊           | 266 kB 5.4 MB/s eta 0:00:01\r\u001b[K     |█████████████████████▋          | 276 kB 5.4 MB/s eta 0:00:01\r\u001b[K     |██████████████████████▍         | 286 kB 5.4 MB/s eta 0:00:01\r\u001b[K     |███████████████████████▏        | 296 kB 5.4 MB/s eta 0:00:01\r\u001b[K     |████████████████████████        | 307 kB 5.4 MB/s eta 0:00:01\r\u001b[K     |████████████████████████▊       | 317 kB 5.4 MB/s eta 0:00:01\r\u001b[K     |█████████████████████████▋      | 327 kB 5.4 MB/s eta 0:00:01\r\u001b[K     |██████████████████████████▍     | 337 kB 5.4 MB/s eta 0:00:01\r\u001b[K     |███████████████████████████▏    | 348 kB 5.4 MB/s eta 0:00:01\r\u001b[K     |████████████████████████████    | 358 kB 5.4 MB/s eta 0:00:01\r\u001b[K     |████████████████████████████▊   | 368 kB 5.4 MB/s eta 0:00:01\r\u001b[K     |█████████████████████████████▋  | 378 kB 5.4 MB/s eta 0:00:01\r\u001b[K     |██████████████████████████████▍ | 389 kB 5.4 MB/s eta 0:00:01\r\u001b[K     |███████████████████████████████▏| 399 kB 5.4 MB/s eta 0:00:01\r\u001b[K     |████████████████████████████████| 409 kB 5.4 MB/s eta 0:00:01\r\u001b[K     |████████████████████████████████| 410 kB 5.4 MB/s \n",
            "\u001b[?25h  Installing build dependencies ... \u001b[?25l\u001b[?25hdone\n",
            "  Getting requirements to build wheel ... \u001b[?25l\u001b[?25hdone\n",
            "    Preparing wheel metadata ... \u001b[?25l\u001b[?25hdone\n",
            "Requirement already satisfied: decorator in /usr/local/lib/python3.7/dist-packages (from pysptk) (4.4.2)\n",
            "Requirement already satisfied: six in /usr/local/lib/python3.7/dist-packages (from pysptk) (1.15.0)\n",
            "Requirement already satisfied: scipy in /usr/local/lib/python3.7/dist-packages (from pysptk) (1.4.1)\n",
            "Requirement already satisfied: cython>=0.28.0 in /usr/local/lib/python3.7/dist-packages (from pysptk) (0.29.28)\n",
            "Requirement already satisfied: numpy>=1.13.3 in /usr/local/lib/python3.7/dist-packages (from scipy->pysptk) (1.21.5)\n",
            "Building wheels for collected packages: pysptk\n",
            "  Building wheel for pysptk (PEP 517) ... \u001b[?25l\u001b[?25hdone\n",
            "  Created wheel for pysptk: filename=pysptk-0.1.20-cp37-cp37m-linux_x86_64.whl size=929941 sha256=2f910d51b369a466f0056feaa1f884cab3ae0132ffd7c745fe1e3a83dd2cb092\n",
            "  Stored in directory: /root/.cache/pip/wheels/dd/37/3f/7583b00bf73e73650aad5d268ee46b95dbd6dffbd237e1bf58\n",
            "Successfully built pysptk\n",
            "Installing collected packages: pysptk\n",
            "Successfully installed pysptk-0.1.20\n"
          ]
        }
      ]
    },
    {
      "cell_type": "code",
      "metadata": {
        "id": "x75MBp3_g82f",
        "colab": {
          "base_uri": "https://localhost:8080/"
        },
        "outputId": "b5cc37c1-64e4-4273-b282-f365102e9ec3"
      },
      "source": [
        "!pip3 install pyworld"
      ],
      "execution_count": null,
      "outputs": [
        {
          "output_type": "stream",
          "name": "stdout",
          "text": [
            "Collecting pyworld\n",
            "  Downloading pyworld-0.3.0.tar.gz (212 kB)\n",
            "\u001b[?25l\r\u001b[K     |█▌                              | 10 kB 20.7 MB/s eta 0:00:01\r\u001b[K     |███                             | 20 kB 12.3 MB/s eta 0:00:01\r\u001b[K     |████▋                           | 30 kB 9.6 MB/s eta 0:00:01\r\u001b[K     |██████▏                         | 40 kB 8.4 MB/s eta 0:00:01\r\u001b[K     |███████▊                        | 51 kB 4.5 MB/s eta 0:00:01\r\u001b[K     |█████████▎                      | 61 kB 5.3 MB/s eta 0:00:01\r\u001b[K     |██████████▉                     | 71 kB 5.7 MB/s eta 0:00:01\r\u001b[K     |████████████▍                   | 81 kB 4.2 MB/s eta 0:00:01\r\u001b[K     |██████████████                  | 92 kB 4.6 MB/s eta 0:00:01\r\u001b[K     |███████████████▌                | 102 kB 5.1 MB/s eta 0:00:01\r\u001b[K     |█████████████████               | 112 kB 5.1 MB/s eta 0:00:01\r\u001b[K     |██████████████████▌             | 122 kB 5.1 MB/s eta 0:00:01\r\u001b[K     |████████████████████            | 133 kB 5.1 MB/s eta 0:00:01\r\u001b[K     |█████████████████████▋          | 143 kB 5.1 MB/s eta 0:00:01\r\u001b[K     |███████████████████████▏        | 153 kB 5.1 MB/s eta 0:00:01\r\u001b[K     |████████████████████████▊       | 163 kB 5.1 MB/s eta 0:00:01\r\u001b[K     |██████████████████████████▎     | 174 kB 5.1 MB/s eta 0:00:01\r\u001b[K     |███████████████████████████▉    | 184 kB 5.1 MB/s eta 0:00:01\r\u001b[K     |█████████████████████████████▍  | 194 kB 5.1 MB/s eta 0:00:01\r\u001b[K     |███████████████████████████████ | 204 kB 5.1 MB/s eta 0:00:01\r\u001b[K     |████████████████████████████████| 212 kB 5.1 MB/s \n",
            "\u001b[?25h  Installing build dependencies ... \u001b[?25l\u001b[?25hdone\n",
            "  Getting requirements to build wheel ... \u001b[?25l\u001b[?25hdone\n",
            "    Preparing wheel metadata ... \u001b[?25l\u001b[?25hdone\n",
            "Requirement already satisfied: cython>=0.24.0 in /usr/local/lib/python3.7/dist-packages (from pyworld) (0.29.28)\n",
            "Requirement already satisfied: numpy in /usr/local/lib/python3.7/dist-packages (from pyworld) (1.21.5)\n",
            "Building wheels for collected packages: pyworld\n",
            "  Building wheel for pyworld (PEP 517) ... \u001b[?25l\u001b[?25hdone\n",
            "  Created wheel for pyworld: filename=pyworld-0.3.0-cp37-cp37m-linux_x86_64.whl size=609504 sha256=97a466ab771ec1030bfaa1e3d16440a9cbd6ba72ebb37499d6069de8f2e916df\n",
            "  Stored in directory: /root/.cache/pip/wheels/e7/7c/11/c775fffa0e1e7b05a6604b4323408a77f80fb4ab304d96b5c6\n",
            "Successfully built pyworld\n",
            "Installing collected packages: pyworld\n",
            "Successfully installed pyworld-0.3.0\n"
          ]
        }
      ]
    },
    {
      "cell_type": "code",
      "metadata": {
        "id": "rObLqwVmgifu"
      },
      "source": [
        "import torch\n",
        "from scipy.io import wavfile\n",
        "import pysptk\n",
        "from pysptk.synthesis import Synthesizer, MLSADF\n",
        "import pyworld\n",
        "from os.path import join, basename\n",
        "import librosa\n",
        "import librosa.display\n",
        "import IPython\n",
        "from IPython.display import Audio\n",
        "import glob\n",
        "import os\n",
        "import numpy as np\n",
        "from os.path import join, basename\n",
        "import collections"
      ],
      "execution_count": null,
      "outputs": []
    },
    {
      "cell_type": "markdown",
      "source": [
        "# Loading Data \n",
        "* Upload your data in your google drive \n",
        "* Run the cell below , and your drive will be accessible from this notebook. This will ask for your permission.\n",
        "* After granting the permission , you can access any folder or file in your drive from this notebook environment.\n",
        "\n",
        "\n"
      ],
      "metadata": {
        "id": "wUf2L9vkaueI"
      }
    },
    {
      "cell_type": "code",
      "source": [
        "from google.colab import drive\n",
        "drive.mount('/content/drive')"
      ],
      "metadata": {
        "id": "eYUo9bm0BSYp",
        "colab": {
          "base_uri": "https://localhost:8080/"
        },
        "outputId": "036f9702-c333-4637-d103-69ce0a8c3e85"
      },
      "execution_count": null,
      "outputs": [
        {
          "output_type": "stream",
          "name": "stdout",
          "text": [
            "Mounted at /content/drive\n"
          ]
        }
      ]
    },
    {
      "cell_type": "code",
      "source": [
        "def getpaths():  \n",
        "  \"\"\"\n",
        "  This function takes input from the user , i.e. , the number of datasets and the path of the datasets\n",
        "  \n",
        "  \"\"\"\n",
        "  print(\"Enter No. of Datasets :\")\n",
        "  n=int(input())\n",
        "  paths=[]\n",
        "  for i in range(n):\n",
        "    if i ==0:\n",
        "      paths.append(input(\"Enter Original path : \"))\n",
        "    else:\n",
        "      paths.append(input(f\"Enter path{i} : \"))\n",
        "  return paths"
      ],
      "metadata": {
        "id": "k7saSLpbya79"
      },
      "execution_count": null,
      "outputs": []
    },
    {
      "cell_type": "markdown",
      "source": [
        "### Enter the number of datasets and the paths :\n",
        "* Enter a numrical value , like 2/4 with respect to the number of datasets you want to visualize.\n",
        "* Enter the path of the original data first.\n",
        "* Then you can put the path of the other datasets. \n",
        "\n",
        "### Note : The datasets should contain same number of wav files with the same name of each wav file."
      ],
      "metadata": {
        "id": "ikLiTEGnb12A"
      }
    },
    {
      "cell_type": "code",
      "source": [
        "paths=getpaths()"
      ],
      "metadata": {
        "colab": {
          "base_uri": "https://localhost:8080/"
        },
        "id": "PZdyMEtGz7zk",
        "outputId": "eb0893f3-cc0e-4e4d-d686-9bde69b0b32c"
      },
      "execution_count": null,
      "outputs": [
        {
          "name": "stdout",
          "output_type": "stream",
          "text": [
            "Enter No. of Datasets :\n",
            "2\n",
            "Enter Original path : /content/drive/MyDrive/Male-to-Male-Voice/SM1\n",
            "Enter path1 : /content/drive/MyDrive/Male-to-Male-Voice/converted_SM2_Speech_in_SM1_Voice\n"
          ]
        }
      ]
    },
    {
      "cell_type": "code",
      "source": [
        "%pylab inline\n",
        "from matplotlib import pyplot as plt\n",
        "rcParams[\"figure.figsize\"] = (16,5)"
      ],
      "metadata": {
        "id": "P21lTC7q89o2",
        "colab": {
          "base_uri": "https://localhost:8080/"
        },
        "outputId": "61bb12b8-92bd-457d-9cb6-b8ea4c65282b"
      },
      "execution_count": null,
      "outputs": [
        {
          "output_type": "stream",
          "name": "stdout",
          "text": [
            "Populating the interactive namespace from numpy and matplotlib\n"
          ]
        }
      ]
    },
    {
      "cell_type": "markdown",
      "source": [
        "### Funtion to compute the static feature - \n",
        "* Takes wav file path as input.\n",
        "* Returns the Global variance as output."
      ],
      "metadata": {
        "id": "-PMK79QHcy_p"
      }
    },
    {
      "cell_type": "code",
      "metadata": {
        "id": "9MESR2TJqcNY"
      },
      "source": [
        "def compute_static_features(wav):\n",
        "    fs,x=wavfile.read(wav)\n",
        "    x = x.astype(np.float64)\n",
        "    f0, timeaxis = pyworld.dio(x, fs, frame_period=5.0)\n",
        "    f0 = pyworld.stonemask(x, f0, timeaxis, fs)\n",
        "    spectrogram = pyworld.cheaptrick(x, f0, timeaxis, fs)\n",
        "    aperiodicity = pyworld.d4c(x, f0, timeaxis, fs)\n",
        "    alpha = pysptk.util.mcepalpha(fs)\n",
        "    mc = pysptk.sp2mc(spectrogram, order=24, alpha=alpha) \n",
        "    c0, mc = mc[:, 0], mc[:, 1:]\n",
        "    #print(shape(mc))\n",
        "    gv=np.var(mc,axis=0)\n",
        "    #print(gv)\n",
        "    return gv  #    [x1,x2, ......x24]"
      ],
      "execution_count": null,
      "outputs": []
    },
    {
      "cell_type": "markdown",
      "source": [
        "### Function to calculate RMSE value "
      ],
      "metadata": {
        "id": "j7i9PwnJdVPQ"
      }
    },
    {
      "cell_type": "code",
      "source": [
        "def calc_rmse(x,y):\n",
        "    min=np.sqrt(((x - y) ** 2).mean())\n",
        "    return min"
      ],
      "metadata": {
        "id": "8r-laznddBK3"
      },
      "execution_count": null,
      "outputs": []
    },
    {
      "cell_type": "markdown",
      "source": [
        "### Function to visualize GV:\n",
        "* Takes the paths as input.\n",
        "* Takes user input for Labels and markers for the plot, with respect to each dataset.\n",
        "* Calculates the GV of all the datasets.\n",
        "* Compare the values and shows the best plot from the dataset."
      ],
      "metadata": {
        "id": "8NpTy8Ozdav3"
      }
    },
    {
      "cell_type": "code",
      "source": [
        "def vis_gv(paths):\n",
        "    print(\"Enter the Labels and Markers for each label [few common markers - x , + , o , * , > , < , D , H , X , v , ^ ]:\")\n",
        "    labels=[]\n",
        "    marker=[]\n",
        "    n=len(paths)\n",
        "    for i in range(n):\n",
        "      if i ==0:\n",
        "        labels.append(input(\"Enter label for Original path : \"))\n",
        "        marker.append(input(\"Enter marker for Original path : \"))\n",
        "      else:\n",
        "        labels.append(input(f\"Enter label for path_{i} : \"))\n",
        "        marker.append(input(f\"ENter marker for path_{i} : \"))\n",
        "\n",
        "\n",
        "    gv_dict = collections.defaultdict(list)\n",
        "    file_paths={}\n",
        "    for i in range(n):\n",
        "      path=glob.glob(paths[i]+'/*')\n",
        "      file_paths[f'path_{i+1}'] =sorted(path)\n",
        "      for wav in file_paths[f'path_{i+1}']:\n",
        "        gv_dict[f'path_{i+1}'].append(compute_static_features(wav))\n",
        "\n",
        "\n",
        "    mini=[]\n",
        "\n",
        "    for i in range(len(gv_dict['path_1'])):\n",
        "      j=1\n",
        "      min_dif=0\n",
        "      while (j+1)<=n:\n",
        "    \n",
        "        min_dif+=(calc_rmse(gv_dict['path_1'][i],gv_dict[f'path_{j+1}'][i]))\n",
        "        #print(min_dif,j)\n",
        "        j+=1\n",
        "      #print(min_dif)\n",
        "      mini.append(min_dif)\n",
        "\n",
        "    #print(len(mini))\n",
        "    ind=mini.index(min(mini))\n",
        "    #print(ind)\n",
        "\n",
        "    figure(figsize=(16,6))\n",
        "    j=0\n",
        "    for i in gv_dict.keys():\n",
        "      plt.plot(gv_dict[i][ind], marker=marker[j] ,linewidth=2, label=labels[j])\n",
        "      legend(prop={\"size\": 18})\n",
        "      yscale(\"log\")\n",
        "      #xlim(0,24)\n",
        "      ylabel(\"GV\", fontsize=16)\n",
        "      xlabel(\"Index of Mel-cepstral coefficient\", fontsize=16)\n",
        "      plt.savefig('GV.png')\n",
        "      j+=1"
      ],
      "metadata": {
        "id": "MJuI6YohdEZx"
      },
      "execution_count": null,
      "outputs": []
    },
    {
      "cell_type": "code",
      "source": [
        "vis_gv(paths)"
      ],
      "metadata": {
        "id": "ZYNiqJ6hk227",
        "colab": {
          "base_uri": "https://localhost:8080/",
          "height": 480
        },
        "outputId": "bb726716-ec47-4d0a-8d16-a800be984ed0"
      },
      "execution_count": null,
      "outputs": [
        {
          "name": "stdout",
          "output_type": "stream",
          "text": [
            "Enter the Labels and Markers for each label [few common markers - x , + , o , * , > , < , D , H , X , v , ^ ]:\n",
            "Enter label for Original path : Original Audio\n",
            "Enter marker for Original path : X\n",
            "Enter label for path_1 : Synthesized Audio\n",
            "ENter marker for path_1 : *\n"
          ]
        },
        {
          "output_type": "display_data",
          "data": {
            "image/png": "[encoded data removed]",
            "text/plain": [
              "<Figure size 1152x432 with 1 Axes>"
            ]
          },
          "metadata": {
            "needs_background": "light"
          }
        }
      ]
    },
    {
      "cell_type": "code",
      "source": [
        ""
      ],
      "metadata": {
        "id": "ITJ0zQoLiy0W"
      },
      "execution_count": null,
      "outputs": []
    }
  ]
}
