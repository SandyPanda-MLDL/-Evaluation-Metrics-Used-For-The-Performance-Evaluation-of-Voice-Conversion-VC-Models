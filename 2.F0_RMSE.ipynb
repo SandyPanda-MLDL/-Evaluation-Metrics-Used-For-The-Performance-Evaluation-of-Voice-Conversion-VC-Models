{
  "cells": [
    {
      "cell_type": "markdown",
      "source": [
        "Loading the datasets from zipped drive folder ! "
      ],
      "metadata": {
        "id": "AvQNFEUdAFyy"
      }
    },
    {
      "cell_type": "code",
      "source": [
        "from google_drive_downloader.google_drive_downloader import GoogleDriveDownloader as gdd\n",
        "\n",
        "gdd.download_file_from_google_drive(file_id='1T3R7FDi-2fgJCuxooteRt9K_W_p7CRoo', dest_path='/content/Dataset',unzip=True) #add file id which are the characters in the url of the drive link\n",
        "\n",
        "#https://drive.google.com/file/d/128wwBM1xqg3_-b1jYorkqDLq6swMatk8/view?usp=sharing - Bengali to odia\n",
        "#https://drive.google.com/file/d/1T3R7FDi-2fgJCuxooteRt9K_W_p7CRoo/view?usp=sharing - Male to Male voice"
      ],
      "metadata": {
        "id": "RtQ0yiOg6Hko"
      },
      "execution_count": 19,
      "outputs": []
    },
    {
      "cell_type": "code",
      "source": [
        "pip install pyworld"
      ],
      "metadata": {
        "colab": {
          "base_uri": "https://localhost:8080/"
        },
        "id": "eud5_ufEFoYR",
        "outputId": "b1d4c37d-9f0c-40cc-86d7-327b491509e1"
      },
      "execution_count": 20,
      "outputs": [
        {
          "output_type": "stream",
          "name": "stdout",
          "text": [
            "Requirement already satisfied: pyworld in /usr/local/lib/python3.7/dist-packages (0.3.0)\n",
            "Requirement already satisfied: cython>=0.24.0 in /usr/local/lib/python3.7/dist-packages (from pyworld) (0.29.26)\n",
            "Requirement already satisfied: numpy in /usr/local/lib/python3.7/dist-packages (from pyworld) (1.19.5)\n"
          ]
        }
      ]
    },
    {
      "cell_type": "code",
      "source": [
        "pip install pysptk"
      ],
      "metadata": {
        "colab": {
          "base_uri": "https://localhost:8080/"
        },
        "id": "m9MSMnRfFqkx",
        "outputId": "0aad4a57-0671-4b88-e263-c6847616cc15"
      },
      "execution_count": 21,
      "outputs": [
        {
          "output_type": "stream",
          "name": "stdout",
          "text": [
            "Requirement already satisfied: pysptk in /usr/local/lib/python3.7/dist-packages (0.1.20)\n",
            "Requirement already satisfied: six in /usr/local/lib/python3.7/dist-packages (from pysptk) (1.15.0)\n",
            "Requirement already satisfied: scipy in /usr/local/lib/python3.7/dist-packages (from pysptk) (1.4.1)\n",
            "Requirement already satisfied: decorator in /usr/local/lib/python3.7/dist-packages (from pysptk) (4.4.2)\n",
            "Requirement already satisfied: cython>=0.28.0 in /usr/local/lib/python3.7/dist-packages (from pysptk) (0.29.26)\n",
            "Requirement already satisfied: numpy>=1.13.3 in /usr/local/lib/python3.7/dist-packages (from scipy->pysptk) (1.19.5)\n"
          ]
        }
      ]
    },
    {
      "cell_type": "markdown",
      "source": [
        "Importing all the libraries !"
      ],
      "metadata": {
        "id": "K8easOPnAO32"
      }
    },
    {
      "cell_type": "code",
      "execution_count": 22,
      "metadata": {
        "id": "PcizAXUFYcbn"
      },
      "outputs": [],
      "source": [
        "import os\n",
        "import math\n",
        "import glob\n",
        "import librosa\n",
        "import pyworld\n",
        "import pysptk\n",
        "import numpy as np\n",
        "import matplotlib.pyplot as plot"
      ]
    },
    {
      "cell_type": "markdown",
      "metadata": {
        "id": "5LYYTUFVYcbo"
      },
      "source": [
        "### Paths of audio files\n",
        "\n",
        "Input the path to the original and synthesized .wav files."
      ]
    },
    {
      "cell_type": "code",
      "execution_count": 23,
      "metadata": {
        "id": "fFfYdt0yYcbq"
      },
      "outputs": [],
      "source": [
        "ORIGINAL_PATH= '/content/Male-to-Male-Voice/SM1'\n",
        "SYNTHESIZED_PATH='/content/Male-to-Male-Voice/converted_SM2_Speech_in_SM1_Voice'"
      ]
    },
    {
      "cell_type": "markdown",
      "metadata": {
        "id": "AmPk837vYcbq"
      },
      "source": [
        "### Functions to load files\n",
        "\n",
        "Using librosa to load wav files."
      ]
    },
    {
      "cell_type": "code",
      "source": [
        "def load_wav(wav_file, sr):\n",
        "    \n",
        "    wav, _ = librosa.load(wav_file, sr=sr, mono=True)\n",
        "\n",
        "    return wav"
      ],
      "metadata": {
        "id": "BtJrZ6gbD3zt"
      },
      "execution_count": 24,
      "outputs": []
    },
    {
      "cell_type": "markdown",
      "source": [
        "Saving the file paths in a list."
      ],
      "metadata": {
        "id": "aOyTJY_dAoin"
      }
    },
    {
      "cell_type": "code",
      "source": [
        "Org_paths = glob.glob(ORIGINAL_PATH+'/*')\n",
        "Synth_paths = glob.glob(SYNTHESIZED_PATH+'/*')\n",
        "Org_paths.sort()\n",
        "Synth_paths.sort()\n",
        "for i in range(len(Org_paths)):\n",
        "  assert os.path.basename(Org_paths[i])==os.path.basename(Synth_paths[i])\n",
        "  #print(os.path.basename(Org_paths[i]),\"   \",os.path.basename(Synth_paths[i]))\n",
        "#print(Org_paths)"
      ],
      "metadata": {
        "id": "mhaDteedENgk"
      },
      "execution_count": 25,
      "outputs": []
    },
    {
      "cell_type": "markdown",
      "source": [
        "Loading the original and synthesized wav files in a list using load_wav function."
      ],
      "metadata": {
        "id": "yiuN7_-ODG9n"
      }
    },
    {
      "cell_type": "code",
      "execution_count": 26,
      "metadata": {
        "id": "XlxsHjXfYcbr",
        "colab": {
          "base_uri": "https://localhost:8080/"
        },
        "outputId": "3990da9a-4db4-40af-aa5f-b308c071fda2"
      },
      "outputs": [
        {
          "output_type": "stream",
          "name": "stdout",
          "text": [
            "162\n"
          ]
        }
      ],
      "source": [
        "sampling_rate = 16000\n",
        "num_mcep = 24\n",
        "frame_period = 5.0\n",
        "n_frames = 128\n",
        "wavs_org=[]\n",
        "wavs_synth=[]\n",
        "\n",
        "for i in range(len(Org_paths)):\n",
        "  if os.path.basename(Org_paths[i])==os.path.basename(Synth_paths[i]):\n",
        "    wavs_org.append(load_wav(wav_file = Org_paths[i], sr = sampling_rate))\n",
        "    wavs_synth.append(load_wav(wav_file = Synth_paths[i], sr = sampling_rate))\n",
        "\n",
        "print(len(wavs_org))"
      ]
    },
    {
      "cell_type": "markdown",
      "metadata": {
        "id": "giqOQlfFYcbs"
      },
      "source": [
        "### WORLD Analyzer (function to calculate and load F0 feature)\n",
        "\n",
        "Using pyworld's harvest method to get the F0 values for each wav file and storing them in a list."
      ]
    },
    {
      "cell_type": "code",
      "execution_count": 27,
      "metadata": {
        "id": "OVx9THvaYcbt"
      },
      "outputs": [],
      "source": [
        "def world_encode_data(wavs, fs, frame_period = 5.0, coded_dim = 24):\n",
        "\n",
        "    f0s = []\n",
        "    \n",
        "    num_mcep = 24\n",
        "    for i in range(len(wavs)):\n",
        "        wav = wavs[i]\n",
        "        wav = wav.astype(np.float64)\n",
        "        f0, _  = pyworld.harvest(wav, fs, frame_period = frame_period, f0_floor = 71.0, f0_ceil = 800.0)\n",
        "        f0s.append(f0)\n",
        "        #log_f0s_concatenated0 = np.ma.log(np.concatenate(f0s))\n",
        "        #print(len(f0))\n",
        "        \n",
        "\n",
        "    return f0s#log_f0s_concatenated0"
      ]
    },
    {
      "cell_type": "markdown",
      "source": [
        "Loading the F0 values of original and synthesized files.\n",
        "\n"
      ],
      "metadata": {
        "id": "jO9PSZYSF6gV"
      }
    },
    {
      "cell_type": "code",
      "execution_count": 28,
      "metadata": {
        "id": "XrE7eiHoYcbt"
      },
      "outputs": [],
      "source": [
        "\n",
        "f0s_org = world_encode_data(wavs = wavs_org, fs = sampling_rate, frame_period = frame_period, coded_dim = num_mcep)\n",
        "f0s_synth = world_encode_data(wavs = wavs_synth, fs = sampling_rate, frame_period = frame_period, coded_dim = num_mcep)"
      ]
    },
    {
      "cell_type": "markdown",
      "metadata": {
        "id": "zb49wceCYcbv"
      },
      "source": [
        "### Using dynamic time warping (DTW) for F0 RMSE calculation\n",
        "\n",
        "Librosa's DTW is used for dynamic time warping."
      ]
    },
    {
      "cell_type": "code",
      "source": [
        "min_cost_tot=[]\n",
        "for i in range(len(wavs_org)):\n",
        "  frame_len=0\n",
        "  def logf0_rmse(x, y): # method to calculate cost\n",
        "    #y=pad_to(y,len(x))\n",
        "    log_spec_dB_const = 1/len(frame_len)\n",
        "    # print(y)\n",
        "    diff = x - y\n",
        "    # print(x,\"  \",y,\"  \",len(y))\n",
        "    # print(diff)\n",
        "    #print(log_spec_dB_const * math.sqrt(np.inner(diff, diff)))\n",
        "    return log_spec_dB_const * math.sqrt(np.inner(diff, diff))\n",
        "  \n",
        "  \n",
        "  if len(f0s_org[i])<len(f0s_synth[i]):\n",
        "    frame_len=f0s_org[i]\n",
        "  else:\n",
        "    frame_len=f0s_synth[i]\n",
        "\n",
        "  cost_function = logf0_rmse\n",
        "  min_cost, _ = librosa.sequence.dtw(f0s_org[i][:].T, f0s_synth[i][:].T, \n",
        "                                                   metric=cost_function)\n",
        "  #print(len(min_cost))\n",
        "  \n",
        "  min_cost_tot.append(np.mean(min_cost))\n",
        "   "
      ],
      "metadata": {
        "id": "YUKl-At1q4jB"
      },
      "execution_count": 29,
      "outputs": []
    },
    {
      "cell_type": "code",
      "execution_count": 31,
      "metadata": {
        "id": "jqYAq0bTYcbw",
        "outputId": "a3fc80f6-20b2-457d-ab23-ce427ee8680f",
        "colab": {
          "base_uri": "https://localhost:8080/"
        }
      },
      "outputs": [
        {
          "output_type": "stream",
          "name": "stdout",
          "text": [
            "F0_RMSE = 15.699971688352361\n"
          ]
        }
      ],
      "source": [
        "F0RMSE=sum(min_cost_tot)/len(min_cost_tot)\n",
        "print(f\"F0_RMSE = {F0RMSE}\")"
      ]
    },
    {
      "cell_type": "code",
      "source": [
        ""
      ],
      "metadata": {
        "id": "hWsIiKMhKLYC"
      },
      "execution_count": null,
      "outputs": []
    }
  ],
  "metadata": {
    "kernelspec": {
      "display_name": "Python 3",
      "language": "python",
      "name": "python3"
    },
    "language_info": {
      "codemirror_mode": {
        "name": "ipython",
        "version": 3
      },
      "file_extension": ".py",
      "mimetype": "text/x-python",
      "name": "python",
      "nbconvert_exporter": "python",
      "pygments_lexer": "ipython3",
      "version": "3.6.9"
    },
    "colab": {
      "name": "F0_RMSE_final",
      "provenance": []
    }
  },
  "nbformat": 4,
  "nbformat_minor": 0
}