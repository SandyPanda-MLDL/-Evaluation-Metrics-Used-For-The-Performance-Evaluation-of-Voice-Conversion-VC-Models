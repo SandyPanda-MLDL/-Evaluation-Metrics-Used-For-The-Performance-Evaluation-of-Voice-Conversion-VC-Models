{
  "cells": [
    {
      "cell_type": "markdown",
      "source": [
        "Loading the datasets from zipped drive folder ! "
      ],
      "metadata": {
        "id": "AvQNFEUdAFyy"
      }
    },
    {
      "cell_type": "code",
      "source": [
        "from google_drive_downloader.google_drive_downloader import GoogleDriveDownloader as gdd\n",
        "\n",
        "gdd.download_file_from_google_drive(file_id='1T3R7FDi-2fgJCuxooteRt9K_W_p7CRoo', dest_path='/content/Dataset',unzip=True) #add file id which are the characters in the url of the drive link\n",
        "\n",
        "#https://drive.google.com/file/d/128wwBM1xqg3_-b1jYorkqDLq6swMatk8/view?usp=sharing - Bengali to odia\n",
        "#https://drive.google.com/file/d/1T3R7FDi-2fgJCuxooteRt9K_W_p7CRoo/view?usp=sharing - Male to Male voice"
      ],
      "metadata": {
        "id": "RtQ0yiOg6Hko",
        "colab": {
          "base_uri": "https://localhost:8080/"
        },
        "outputId": "394cb201-a982-4a22-954f-bc40dc0311f5"
      },
      "execution_count": 1,
      "outputs": [
        {
          "output_type": "stream",
          "name": "stdout",
          "text": [
            "Downloading 1T3R7FDi-2fgJCuxooteRt9K_W_p7CRoo into /content/Dataset... Done.\n",
            "Unzipping...Done.\n"
          ]
        }
      ]
    },
    {
      "cell_type": "code",
      "source": [
        "pip install pyworld"
      ],
      "metadata": {
        "colab": {
          "base_uri": "https://localhost:8080/"
        },
        "id": "eud5_ufEFoYR",
        "outputId": "a2bae791-cf77-49bc-e691-edb2c8ce1827"
      },
      "execution_count": 2,
      "outputs": [
        {
          "output_type": "stream",
          "name": "stdout",
          "text": [
            "Collecting pyworld\n",
            "  Downloading pyworld-0.3.0.tar.gz (212 kB)\n",
            "\u001b[?25l\r\u001b[K     |█▌                              | 10 kB 13.8 MB/s eta 0:00:01\r\u001b[K     |███                             | 20 kB 15.9 MB/s eta 0:00:01\r\u001b[K     |████▋                           | 30 kB 16.7 MB/s eta 0:00:01\r\u001b[K     |██████▏                         | 40 kB 18.8 MB/s eta 0:00:01\r\u001b[K     |███████▊                        | 51 kB 11.5 MB/s eta 0:00:01\r\u001b[K     |█████████▎                      | 61 kB 12.9 MB/s eta 0:00:01\r\u001b[K     |██████████▉                     | 71 kB 10.2 MB/s eta 0:00:01\r\u001b[K     |████████████▍                   | 81 kB 11.1 MB/s eta 0:00:01\r\u001b[K     |██████████████                  | 92 kB 10.3 MB/s eta 0:00:01\r\u001b[K     |███████████████▌                | 102 kB 9.9 MB/s eta 0:00:01\r\u001b[K     |█████████████████               | 112 kB 9.9 MB/s eta 0:00:01\r\u001b[K     |██████████████████▌             | 122 kB 9.9 MB/s eta 0:00:01\r\u001b[K     |████████████████████            | 133 kB 9.9 MB/s eta 0:00:01\r\u001b[K     |█████████████████████▋          | 143 kB 9.9 MB/s eta 0:00:01\r\u001b[K     |███████████████████████▏        | 153 kB 9.9 MB/s eta 0:00:01\r\u001b[K     |████████████████████████▊       | 163 kB 9.9 MB/s eta 0:00:01\r\u001b[K     |██████████████████████████▎     | 174 kB 9.9 MB/s eta 0:00:01\r\u001b[K     |███████████████████████████▉    | 184 kB 9.9 MB/s eta 0:00:01\r\u001b[K     |█████████████████████████████▍  | 194 kB 9.9 MB/s eta 0:00:01\r\u001b[K     |███████████████████████████████ | 204 kB 9.9 MB/s eta 0:00:01\r\u001b[K     |████████████████████████████████| 212 kB 9.9 MB/s \n",
            "\u001b[?25h  Installing build dependencies ... \u001b[?25l\u001b[?25hdone\n",
            "  Getting requirements to build wheel ... \u001b[?25l\u001b[?25hdone\n",
            "    Preparing wheel metadata ... \u001b[?25l\u001b[?25hdone\n",
            "Requirement already satisfied: cython>=0.24.0 in /usr/local/lib/python3.7/dist-packages (from pyworld) (0.29.26)\n",
            "Requirement already satisfied: numpy in /usr/local/lib/python3.7/dist-packages (from pyworld) (1.19.5)\n",
            "Building wheels for collected packages: pyworld\n",
            "  Building wheel for pyworld (PEP 517) ... \u001b[?25l\u001b[?25hdone\n",
            "  Created wheel for pyworld: filename=pyworld-0.3.0-cp37-cp37m-linux_x86_64.whl size=609477 sha256=6b56f9e1b58379eca95686503dfc1be55666a43a9453e54f2337754660bf6ab4\n",
            "  Stored in directory: /root/.cache/pip/wheels/e7/7c/11/c775fffa0e1e7b05a6604b4323408a77f80fb4ab304d96b5c6\n",
            "Successfully built pyworld\n",
            "Installing collected packages: pyworld\n",
            "Successfully installed pyworld-0.3.0\n"
          ]
        }
      ]
    },
    {
      "cell_type": "code",
      "source": [
        "pip install pysptk"
      ],
      "metadata": {
        "colab": {
          "base_uri": "https://localhost:8080/"
        },
        "id": "m9MSMnRfFqkx",
        "outputId": "e63b8cc9-8dc8-4a2c-92b3-8e16d804208b"
      },
      "execution_count": 3,
      "outputs": [
        {
          "output_type": "stream",
          "name": "stdout",
          "text": [
            "Collecting pysptk\n",
            "  Downloading pysptk-0.1.20.tar.gz (410 kB)\n",
            "\u001b[?25l\r\u001b[K     |▉                               | 10 kB 20.3 MB/s eta 0:00:01\r\u001b[K     |█▋                              | 20 kB 23.7 MB/s eta 0:00:01\r\u001b[K     |██▍                             | 30 kB 18.6 MB/s eta 0:00:01\r\u001b[K     |███▏                            | 40 kB 12.4 MB/s eta 0:00:01\r\u001b[K     |████                            | 51 kB 8.5 MB/s eta 0:00:01\r\u001b[K     |████▉                           | 61 kB 9.0 MB/s eta 0:00:01\r\u001b[K     |█████▋                          | 71 kB 7.3 MB/s eta 0:00:01\r\u001b[K     |██████▍                         | 81 kB 7.4 MB/s eta 0:00:01\r\u001b[K     |███████▏                        | 92 kB 7.1 MB/s eta 0:00:01\r\u001b[K     |████████                        | 102 kB 7.7 MB/s eta 0:00:01\r\u001b[K     |████████▉                       | 112 kB 7.7 MB/s eta 0:00:01\r\u001b[K     |█████████▋                      | 122 kB 7.7 MB/s eta 0:00:01\r\u001b[K     |██████████▍                     | 133 kB 7.7 MB/s eta 0:00:01\r\u001b[K     |███████████▏                    | 143 kB 7.7 MB/s eta 0:00:01\r\u001b[K     |████████████                    | 153 kB 7.7 MB/s eta 0:00:01\r\u001b[K     |████████████▉                   | 163 kB 7.7 MB/s eta 0:00:01\r\u001b[K     |█████████████▋                  | 174 kB 7.7 MB/s eta 0:00:01\r\u001b[K     |██████████████▍                 | 184 kB 7.7 MB/s eta 0:00:01\r\u001b[K     |███████████████▏                | 194 kB 7.7 MB/s eta 0:00:01\r\u001b[K     |████████████████                | 204 kB 7.7 MB/s eta 0:00:01\r\u001b[K     |████████████████▊               | 215 kB 7.7 MB/s eta 0:00:01\r\u001b[K     |█████████████████▋              | 225 kB 7.7 MB/s eta 0:00:01\r\u001b[K     |██████████████████▍             | 235 kB 7.7 MB/s eta 0:00:01\r\u001b[K     |███████████████████▏            | 245 kB 7.7 MB/s eta 0:00:01\r\u001b[K     |████████████████████            | 256 kB 7.7 MB/s eta 0:00:01\r\u001b[K     |████████████████████▊           | 266 kB 7.7 MB/s eta 0:00:01\r\u001b[K     |█████████████████████▋          | 276 kB 7.7 MB/s eta 0:00:01\r\u001b[K     |██████████████████████▍         | 286 kB 7.7 MB/s eta 0:00:01\r\u001b[K     |███████████████████████▏        | 296 kB 7.7 MB/s eta 0:00:01\r\u001b[K     |████████████████████████        | 307 kB 7.7 MB/s eta 0:00:01\r\u001b[K     |████████████████████████▊       | 317 kB 7.7 MB/s eta 0:00:01\r\u001b[K     |█████████████████████████▋      | 327 kB 7.7 MB/s eta 0:00:01\r\u001b[K     |██████████████████████████▍     | 337 kB 7.7 MB/s eta 0:00:01\r\u001b[K     |███████████████████████████▏    | 348 kB 7.7 MB/s eta 0:00:01\r\u001b[K     |████████████████████████████    | 358 kB 7.7 MB/s eta 0:00:01\r\u001b[K     |████████████████████████████▊   | 368 kB 7.7 MB/s eta 0:00:01\r\u001b[K     |█████████████████████████████▋  | 378 kB 7.7 MB/s eta 0:00:01\r\u001b[K     |██████████████████████████████▍ | 389 kB 7.7 MB/s eta 0:00:01\r\u001b[K     |███████████████████████████████▏| 399 kB 7.7 MB/s eta 0:00:01\r\u001b[K     |████████████████████████████████| 409 kB 7.7 MB/s eta 0:00:01\r\u001b[K     |████████████████████████████████| 410 kB 7.7 MB/s \n",
            "\u001b[?25h  Installing build dependencies ... \u001b[?25l\u001b[?25hdone\n",
            "  Getting requirements to build wheel ... \u001b[?25l\u001b[?25hdone\n",
            "    Preparing wheel metadata ... \u001b[?25l\u001b[?25hdone\n",
            "Requirement already satisfied: scipy in /usr/local/lib/python3.7/dist-packages (from pysptk) (1.4.1)\n",
            "Requirement already satisfied: decorator in /usr/local/lib/python3.7/dist-packages (from pysptk) (4.4.2)\n",
            "Requirement already satisfied: six in /usr/local/lib/python3.7/dist-packages (from pysptk) (1.15.0)\n",
            "Requirement already satisfied: cython>=0.28.0 in /usr/local/lib/python3.7/dist-packages (from pysptk) (0.29.26)\n",
            "Requirement already satisfied: numpy>=1.13.3 in /usr/local/lib/python3.7/dist-packages (from scipy->pysptk) (1.19.5)\n",
            "Building wheels for collected packages: pysptk\n",
            "  Building wheel for pysptk (PEP 517) ... \u001b[?25l\u001b[?25hdone\n",
            "  Created wheel for pysptk: filename=pysptk-0.1.20-cp37-cp37m-linux_x86_64.whl size=929953 sha256=ccfe82034bfcfe5ce0b9f863ea8a90a9d4e7f6eab75005c164aed60b1985231a\n",
            "  Stored in directory: /root/.cache/pip/wheels/dd/37/3f/7583b00bf73e73650aad5d268ee46b95dbd6dffbd237e1bf58\n",
            "Successfully built pysptk\n",
            "Installing collected packages: pysptk\n",
            "Successfully installed pysptk-0.1.20\n"
          ]
        }
      ]
    },
    {
      "cell_type": "markdown",
      "source": [
        "Importing all the libraries !"
      ],
      "metadata": {
        "id": "K8easOPnAO32"
      }
    },
    {
      "cell_type": "code",
      "execution_count": 4,
      "metadata": {
        "id": "PcizAXUFYcbn"
      },
      "outputs": [],
      "source": [
        "import os\n",
        "import math\n",
        "import glob\n",
        "import librosa\n",
        "import pyworld\n",
        "import pysptk\n",
        "import numpy as np\n",
        "import matplotlib.pyplot as plot"
      ]
    },
    {
      "cell_type": "markdown",
      "metadata": {
        "id": "5LYYTUFVYcbo"
      },
      "source": [
        "### Paths of audio files\n",
        "\n",
        "Input the path to the original and synthesized .wav files."
      ]
    },
    {
      "cell_type": "code",
      "execution_count": 6,
      "metadata": {
        "id": "fFfYdt0yYcbq"
      },
      "outputs": [],
      "source": [
        "ORIGINAL_PATH= '/content/Male-to-Male-Voice/SM1'\n",
        "SYNTHESIZED_PATH='/content/Male-to-Male-Voice/converted_SM2_Speech_in_SM1_Voice'"
      ]
    },
    {
      "cell_type": "markdown",
      "metadata": {
        "id": "AmPk837vYcbq"
      },
      "source": [
        "### Functions to load files\n",
        "\n",
        "Using librosa to load wav files."
      ]
    },
    {
      "cell_type": "code",
      "source": [
        "def load_wav(wav_file, sr):\n",
        "    \n",
        "    wav, _ = librosa.load(wav_file, sr=sr, mono=True)\n",
        "\n",
        "    return wav"
      ],
      "metadata": {
        "id": "BtJrZ6gbD3zt"
      },
      "execution_count": 7,
      "outputs": []
    },
    {
      "cell_type": "markdown",
      "source": [
        "Saving the file paths in a list."
      ],
      "metadata": {
        "id": "aOyTJY_dAoin"
      }
    },
    {
      "cell_type": "code",
      "source": [
        "Org_paths = glob.glob(ORIGINAL_PATH+'/*')\n",
        "Synth_paths = glob.glob(SYNTHESIZED_PATH+'/*')\n",
        "Org_paths.sort()\n",
        "Synth_paths.sort()\n",
        "for i in range(len(Org_paths)):\n",
        "  assert os.path.basename(Org_paths[i])==os.path.basename(Synth_paths[i])\n",
        "  #print(os.path.basename(Org_paths[i]),\"   \",os.path.basename(Synth_paths[i]))\n",
        "#print(Org_paths)"
      ],
      "metadata": {
        "id": "mhaDteedENgk"
      },
      "execution_count": 8,
      "outputs": []
    },
    {
      "cell_type": "markdown",
      "source": [
        "Loading the original and synthesized wav files in a list using load_wav function."
      ],
      "metadata": {
        "id": "yiuN7_-ODG9n"
      }
    },
    {
      "cell_type": "code",
      "execution_count": 9,
      "metadata": {
        "id": "XlxsHjXfYcbr",
        "colab": {
          "base_uri": "https://localhost:8080/"
        },
        "outputId": "8275cd29-53e2-4d09-94e8-025706d7e0a1"
      },
      "outputs": [
        {
          "output_type": "stream",
          "name": "stdout",
          "text": [
            "162\n"
          ]
        }
      ],
      "source": [
        "sampling_rate = 16000\n",
        "num_mcep = 24\n",
        "frame_period = 5.0\n",
        "n_frames = 128\n",
        "wavs_org=[]\n",
        "wavs_synth=[]\n",
        "\n",
        "for i in range(len(Org_paths)):\n",
        "  if os.path.basename(Org_paths[i])==os.path.basename(Synth_paths[i]):\n",
        "    wavs_org.append(load_wav(wav_file = Org_paths[i], sr = sampling_rate))\n",
        "    wavs_synth.append(load_wav(wav_file = Synth_paths[i], sr = sampling_rate))\n",
        "\n",
        "print(len(wavs_org))"
      ]
    },
    {
      "cell_type": "markdown",
      "metadata": {
        "id": "giqOQlfFYcbs"
      },
      "source": [
        "### WORLD Analyzer (function to calculate and load logF0 feature)\n",
        "\n",
        "Using pyworld's harvest method to get the logF0 values for each wav file and storing them in a list."
      ]
    },
    {
      "cell_type": "code",
      "execution_count": 10,
      "metadata": {
        "id": "OVx9THvaYcbt"
      },
      "outputs": [],
      "source": [
        "def world_encode_data(wavs, fs, frame_period = 5.0, coded_dim = 24):\n",
        "\n",
        "    f0s = []\n",
        "    log_f0s_concatenated0=[]\n",
        "    num_mcep = 24\n",
        "    for i in range(len(wavs)):\n",
        "        wav = wavs[i]\n",
        "        wav = wav.astype(np.float64)\n",
        "        f0, _  = pyworld.harvest(wav, fs, frame_period = frame_period, f0_floor = 71.0, f0_ceil = 800.0)\n",
        "        f0s.append(f0)\n",
        "        log_f0s_concatenated0.append(np.ma.log(f0s[i]))\n",
        "        #print(len(f0))\n",
        "        \n",
        "\n",
        "    return log_f0s_concatenated0 #f0s"
      ]
    },
    {
      "cell_type": "markdown",
      "source": [
        "Loading the logF0 values of original and synthesized files.\n",
        "\n"
      ],
      "metadata": {
        "id": "jO9PSZYSF6gV"
      }
    },
    {
      "cell_type": "code",
      "execution_count": 11,
      "metadata": {
        "id": "XrE7eiHoYcbt"
      },
      "outputs": [],
      "source": [
        "f0s_org = world_encode_data(wavs = wavs_org, fs = sampling_rate, frame_period = frame_period, coded_dim = num_mcep)\n",
        "f0s_synth = world_encode_data(wavs = wavs_synth, fs = sampling_rate, frame_period = frame_period, coded_dim = num_mcep)"
      ]
    },
    {
      "cell_type": "markdown",
      "metadata": {
        "id": "zb49wceCYcbv"
      },
      "source": [
        "### Using dynamic time warping (DTW) for logF0 RMSE calculation\n",
        "\n",
        "Librosa's DTW is used for dynamic time warping."
      ]
    },
    {
      "cell_type": "code",
      "source": [
        "min_cost_tot=[]\n",
        "for i in range(len(wavs_org)):\n",
        "  frame_len=0\n",
        "  def logf0_rmse(x, y): # method to calculate cost\n",
        "    #y=pad_to(y,len(x))\n",
        "    log_spec_dB_const = 1/len(frame_len)\n",
        "    # print(y)\n",
        "    diff = x - y\n",
        "    # print(x,\"  \",y,\"  \",len(y))\n",
        "    # print(diff)\n",
        "    #print(log_spec_dB_const * math.sqrt(np.inner(diff, diff)))\n",
        "    return log_spec_dB_const * math.sqrt(np.inner(diff, diff))\n",
        "  \n",
        "  \n",
        "  if len(f0s_org[i])<len(f0s_synth[i]):\n",
        "    frame_len=f0s_org[i]\n",
        "  else:\n",
        "    frame_len=f0s_synth[i]\n",
        "\n",
        "  cost_function = logf0_rmse\n",
        "  min_cost, _ = librosa.sequence.dtw(f0s_org[i][:].T, f0s_synth[i][:].T, \n",
        "                                                   metric=cost_function)\n",
        "  #print(len(min_cost))\n",
        "  \n",
        "  min_cost_tot.append(np.mean(min_cost))\n",
        "   "
      ],
      "metadata": {
        "id": "YUKl-At1q4jB"
      },
      "execution_count": 12,
      "outputs": []
    },
    {
      "cell_type": "code",
      "execution_count": 14,
      "metadata": {
        "id": "jqYAq0bTYcbw",
        "outputId": "c66aef80-8710-4fe6-cfd7-ea405ebff61c",
        "colab": {
          "base_uri": "https://localhost:8080/"
        }
      },
      "outputs": [
        {
          "output_type": "stream",
          "name": "stdout",
          "text": [
            "logF0_RMSE = 0.5095452002821067\n"
          ]
        }
      ],
      "source": [
        "logF0RMSE=sum(min_cost_tot)/len(min_cost_tot)\n",
        "print(f\"logF0_RMSE = {logF0RMSE}\")"
      ]
    },
    {
      "cell_type": "code",
      "source": [
        ""
      ],
      "metadata": {
        "id": "IwkmsYjYUtzo"
      },
      "execution_count": null,
      "outputs": []
    }
  ],
  "metadata": {
    "kernelspec": {
      "display_name": "Python 3",
      "language": "python",
      "name": "python3"
    },
    "language_info": {
      "codemirror_mode": {
        "name": "ipython",
        "version": 3
      },
      "file_extension": ".py",
      "mimetype": "text/x-python",
      "name": "python",
      "nbconvert_exporter": "python",
      "pygments_lexer": "ipython3",
      "version": "3.6.9"
    },
    "colab": {
      "name": "4.log_F0_RMSE_final",
      "provenance": [],
      "collapsed_sections": []
    }
  },
  "nbformat": 4,
  "nbformat_minor": 0
}