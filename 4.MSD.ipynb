{
  "nbformat": 4,
  "nbformat_minor": 0,
  "metadata": {
    "colab": {
      "name": "MSD_final.ipynb",
      "provenance": []
    },
    "kernelspec": {
      "name": "python3",
      "display_name": "Python 3"
    },
    "language_info": {
      "name": "python"
    }
  },
  "cells": [
    {
      "cell_type": "code",
      "execution_count": 1,
      "metadata": {
        "colab": {
          "base_uri": "https://localhost:8080/"
        },
        "id": "jlHqEw9JIOrQ",
        "outputId": "9f2d5ef0-c9fa-405a-f126-5fdc27c94d34"
      },
      "outputs": [
        {
          "output_type": "stream",
          "name": "stdout",
          "text": [
            "Collecting pyworld\n",
            "  Downloading pyworld-0.3.0.tar.gz (212 kB)\n",
            "\u001b[?25l\r\u001b[K     |█▌                              | 10 kB 24.5 MB/s eta 0:00:01\r\u001b[K     |███                             | 20 kB 12.8 MB/s eta 0:00:01\r\u001b[K     |████▋                           | 30 kB 8.3 MB/s eta 0:00:01\r\u001b[K     |██████▏                         | 40 kB 8.6 MB/s eta 0:00:01\r\u001b[K     |███████▊                        | 51 kB 5.1 MB/s eta 0:00:01\r\u001b[K     |█████████▎                      | 61 kB 5.3 MB/s eta 0:00:01\r\u001b[K     |██████████▉                     | 71 kB 5.5 MB/s eta 0:00:01\r\u001b[K     |████████████▍                   | 81 kB 6.1 MB/s eta 0:00:01\r\u001b[K     |██████████████                  | 92 kB 5.1 MB/s eta 0:00:01\r\u001b[K     |███████████████▌                | 102 kB 5.2 MB/s eta 0:00:01\r\u001b[K     |█████████████████               | 112 kB 5.2 MB/s eta 0:00:01\r\u001b[K     |██████████████████▌             | 122 kB 5.2 MB/s eta 0:00:01\r\u001b[K     |████████████████████            | 133 kB 5.2 MB/s eta 0:00:01\r\u001b[K     |█████████████████████▋          | 143 kB 5.2 MB/s eta 0:00:01\r\u001b[K     |███████████████████████▏        | 153 kB 5.2 MB/s eta 0:00:01\r\u001b[K     |████████████████████████▊       | 163 kB 5.2 MB/s eta 0:00:01\r\u001b[K     |██████████████████████████▎     | 174 kB 5.2 MB/s eta 0:00:01\r\u001b[K     |███████████████████████████▉    | 184 kB 5.2 MB/s eta 0:00:01\r\u001b[K     |█████████████████████████████▍  | 194 kB 5.2 MB/s eta 0:00:01\r\u001b[K     |███████████████████████████████ | 204 kB 5.2 MB/s eta 0:00:01\r\u001b[K     |████████████████████████████████| 212 kB 5.2 MB/s \n",
            "\u001b[?25h  Installing build dependencies ... \u001b[?25l\u001b[?25hdone\n",
            "  Getting requirements to build wheel ... \u001b[?25l\u001b[?25hdone\n",
            "    Preparing wheel metadata ... \u001b[?25l\u001b[?25hdone\n",
            "Requirement already satisfied: numpy in /usr/local/lib/python3.7/dist-packages (from pyworld) (1.19.5)\n",
            "Requirement already satisfied: cython>=0.24.0 in /usr/local/lib/python3.7/dist-packages (from pyworld) (0.29.26)\n",
            "Building wheels for collected packages: pyworld\n",
            "  Building wheel for pyworld (PEP 517) ... \u001b[?25l\u001b[?25hdone\n",
            "  Created wheel for pyworld: filename=pyworld-0.3.0-cp37-cp37m-linux_x86_64.whl size=609470 sha256=98f5f0e7009fc4b2761dcd81a61608a48fb8fed9fe5119965a5b74cae13df52b\n",
            "  Stored in directory: /root/.cache/pip/wheels/e7/7c/11/c775fffa0e1e7b05a6604b4323408a77f80fb4ab304d96b5c6\n",
            "Successfully built pyworld\n",
            "Installing collected packages: pyworld\n",
            "Successfully installed pyworld-0.3.0\n"
          ]
        }
      ],
      "source": [
        "pip install pyworld"
      ]
    },
    {
      "cell_type": "code",
      "source": [
        "pip install pysptk"
      ],
      "metadata": {
        "colab": {
          "base_uri": "https://localhost:8080/"
        },
        "id": "EieM7zkWIyyR",
        "outputId": "f2b4b057-4cc5-4c0e-fc9a-44537a39c37e"
      },
      "execution_count": 2,
      "outputs": [
        {
          "output_type": "stream",
          "name": "stdout",
          "text": [
            "Collecting pysptk\n",
            "  Downloading pysptk-0.1.20.tar.gz (410 kB)\n",
            "\u001b[?25l\r\u001b[K     |▉                               | 10 kB 24.7 MB/s eta 0:00:01\r\u001b[K     |█▋                              | 20 kB 11.8 MB/s eta 0:00:01\r\u001b[K     |██▍                             | 30 kB 9.0 MB/s eta 0:00:01\r\u001b[K     |███▏                            | 40 kB 8.3 MB/s eta 0:00:01\r\u001b[K     |████                            | 51 kB 5.0 MB/s eta 0:00:01\r\u001b[K     |████▉                           | 61 kB 5.1 MB/s eta 0:00:01\r\u001b[K     |█████▋                          | 71 kB 5.3 MB/s eta 0:00:01\r\u001b[K     |██████▍                         | 81 kB 5.9 MB/s eta 0:00:01\r\u001b[K     |███████▏                        | 92 kB 4.4 MB/s eta 0:00:01\r\u001b[K     |████████                        | 102 kB 4.8 MB/s eta 0:00:01\r\u001b[K     |████████▉                       | 112 kB 4.8 MB/s eta 0:00:01\r\u001b[K     |█████████▋                      | 122 kB 4.8 MB/s eta 0:00:01\r\u001b[K     |██████████▍                     | 133 kB 4.8 MB/s eta 0:00:01\r\u001b[K     |███████████▏                    | 143 kB 4.8 MB/s eta 0:00:01\r\u001b[K     |████████████                    | 153 kB 4.8 MB/s eta 0:00:01\r\u001b[K     |████████████▉                   | 163 kB 4.8 MB/s eta 0:00:01\r\u001b[K     |█████████████▋                  | 174 kB 4.8 MB/s eta 0:00:01\r\u001b[K     |██████████████▍                 | 184 kB 4.8 MB/s eta 0:00:01\r\u001b[K     |███████████████▏                | 194 kB 4.8 MB/s eta 0:00:01\r\u001b[K     |████████████████                | 204 kB 4.8 MB/s eta 0:00:01\r\u001b[K     |████████████████▊               | 215 kB 4.8 MB/s eta 0:00:01\r\u001b[K     |█████████████████▋              | 225 kB 4.8 MB/s eta 0:00:01\r\u001b[K     |██████████████████▍             | 235 kB 4.8 MB/s eta 0:00:01\r\u001b[K     |███████████████████▏            | 245 kB 4.8 MB/s eta 0:00:01\r\u001b[K     |████████████████████            | 256 kB 4.8 MB/s eta 0:00:01\r\u001b[K     |████████████████████▊           | 266 kB 4.8 MB/s eta 0:00:01\r\u001b[K     |█████████████████████▋          | 276 kB 4.8 MB/s eta 0:00:01\r\u001b[K     |██████████████████████▍         | 286 kB 4.8 MB/s eta 0:00:01\r\u001b[K     |███████████████████████▏        | 296 kB 4.8 MB/s eta 0:00:01\r\u001b[K     |████████████████████████        | 307 kB 4.8 MB/s eta 0:00:01\r\u001b[K     |████████████████████████▊       | 317 kB 4.8 MB/s eta 0:00:01\r\u001b[K     |█████████████████████████▋      | 327 kB 4.8 MB/s eta 0:00:01\r\u001b[K     |██████████████████████████▍     | 337 kB 4.8 MB/s eta 0:00:01\r\u001b[K     |███████████████████████████▏    | 348 kB 4.8 MB/s eta 0:00:01\r\u001b[K     |████████████████████████████    | 358 kB 4.8 MB/s eta 0:00:01\r\u001b[K     |████████████████████████████▊   | 368 kB 4.8 MB/s eta 0:00:01\r\u001b[K     |█████████████████████████████▋  | 378 kB 4.8 MB/s eta 0:00:01\r\u001b[K     |██████████████████████████████▍ | 389 kB 4.8 MB/s eta 0:00:01\r\u001b[K     |███████████████████████████████▏| 399 kB 4.8 MB/s eta 0:00:01\r\u001b[K     |████████████████████████████████| 409 kB 4.8 MB/s eta 0:00:01\r\u001b[K     |████████████████████████████████| 410 kB 4.8 MB/s \n",
            "\u001b[?25h  Installing build dependencies ... \u001b[?25l\u001b[?25hdone\n",
            "  Getting requirements to build wheel ... \u001b[?25l\u001b[?25hdone\n",
            "    Preparing wheel metadata ... \u001b[?25l\u001b[?25hdone\n",
            "Requirement already satisfied: six in /usr/local/lib/python3.7/dist-packages (from pysptk) (1.15.0)\n",
            "Requirement already satisfied: cython>=0.28.0 in /usr/local/lib/python3.7/dist-packages (from pysptk) (0.29.26)\n",
            "Requirement already satisfied: decorator in /usr/local/lib/python3.7/dist-packages (from pysptk) (4.4.2)\n",
            "Requirement already satisfied: scipy in /usr/local/lib/python3.7/dist-packages (from pysptk) (1.4.1)\n",
            "Requirement already satisfied: numpy>=1.13.3 in /usr/local/lib/python3.7/dist-packages (from scipy->pysptk) (1.19.5)\n",
            "Building wheels for collected packages: pysptk\n",
            "  Building wheel for pysptk (PEP 517) ... \u001b[?25l\u001b[?25hdone\n",
            "  Created wheel for pysptk: filename=pysptk-0.1.20-cp37-cp37m-linux_x86_64.whl size=929907 sha256=a7df2a622fee366633707fa9d57fd99c00309f62c38196ac379bbb6fcfae78b3\n",
            "  Stored in directory: /root/.cache/pip/wheels/dd/37/3f/7583b00bf73e73650aad5d268ee46b95dbd6dffbd237e1bf58\n",
            "Successfully built pysptk\n",
            "Installing collected packages: pysptk\n",
            "Successfully installed pysptk-0.1.20\n"
          ]
        }
      ]
    },
    {
      "cell_type": "markdown",
      "source": [
        "**Dataset Downloaded from drive**\n"
      ],
      "metadata": {
        "id": "bgwcEv7AbcxN"
      }
    },
    {
      "cell_type": "code",
      "source": [
        "from google_drive_downloader.google_drive_downloader import GoogleDriveDownloader as gdd\n",
        "gdd.download_file_from_google_drive(file_id='1T3R7FDi-2fgJCuxooteRt9K_W_p7CRoo',\n",
        "                                    dest_path='/content/Dataset',\n",
        "                                    unzip=True)"
      ],
      "metadata": {
        "colab": {
          "base_uri": "https://localhost:8080/"
        },
        "id": "IR2T6zXzYu8l",
        "outputId": "c79e9c15-bd99-456a-cc15-27309690bf9b"
      },
      "execution_count": 3,
      "outputs": [
        {
          "output_type": "stream",
          "name": "stdout",
          "text": [
            "Downloading 1T3R7FDi-2fgJCuxooteRt9K_W_p7CRoo into /content/Dataset... Done.\n",
            "Unzipping...Done.\n"
          ]
        }
      ]
    },
    {
      "cell_type": "markdown",
      "source": [
        "**Import important libraries**"
      ],
      "metadata": {
        "id": "6l-IshQqbsh9"
      }
    },
    {
      "cell_type": "code",
      "source": [
        "from scipy.io import wavfile\n",
        "import pysptk\n",
        "from pysptk.synthesis import Synthesizer, MLSADF\n",
        "import pyworld\n",
        "from os.path import join, basename\n",
        "\n",
        "#from nnmnkwii import preprocessing as P\n",
        "#from nnmnkwii.paramgen import unit_variance_mlpg_matrix\n",
        "\n",
        "#import gantts\n",
        "#from hparams import vc as hp\n",
        "\n",
        "import librosa\n",
        "import librosa.display\n",
        "import IPython\n",
        "from IPython.display import Audio\n",
        "import os\n",
        "import numpy as np\n",
        "import glob\n"
      ],
      "metadata": {
        "id": "FAWuaP6WtDJN"
      },
      "execution_count": 4,
      "outputs": []
    },
    {
      "cell_type": "markdown",
      "source": [
        "**Only path to folder is needed**"
      ],
      "metadata": {
        "id": "2lhHF0gRb8xB"
      }
    },
    {
      "cell_type": "code",
      "source": [
        "orig_path ='/content/Male-to-Male-Voice/SM1'\n",
        "synth_path = '/content/Male-to-Male-Voice/converted_SM2_Speech_in_SM1_Voice'"
      ],
      "metadata": {
        "id": "i9xdLgJku1TR"
      },
      "execution_count": 5,
      "outputs": []
    },
    {
      "cell_type": "markdown",
      "source": [
        "**All the paths are extracted into a list**"
      ],
      "metadata": {
        "id": "Ms3MfthncIXr"
      }
    },
    {
      "cell_type": "code",
      "source": [
        "orig_wav_files=glob.glob(orig_path+'/*')\n",
        "synth_wav_files=glob.glob(synth_path+'/*')\n",
        "orig_wav_files[:]"
      ],
      "metadata": {
        "colab": {
          "base_uri": "https://localhost:8080/"
        },
        "id": "HTHFwd0AvodP",
        "outputId": "d8183d26-aa02-4835-ec2c-cd13e56ce4ec"
      },
      "execution_count": 6,
      "outputs": [
        {
          "output_type": "execute_result",
          "data": {
            "text/plain": [
              "['/content/Male-to-Male-Voice/SM1/100061.wav',\n",
              " '/content/Male-to-Male-Voice/SM1/100080.wav',\n",
              " '/content/Male-to-Male-Voice/SM1/100041.wav',\n",
              " '/content/Male-to-Male-Voice/SM1/100087.wav',\n",
              " '/content/Male-to-Male-Voice/SM1/100072.wav',\n",
              " '/content/Male-to-Male-Voice/SM1/100099.wav',\n",
              " '/content/Male-to-Male-Voice/SM1/100067.wav',\n",
              " '/content/Male-to-Male-Voice/SM1/100002.wav',\n",
              " '/content/Male-to-Male-Voice/SM1/100054.wav',\n",
              " '/content/Male-to-Male-Voice/SM1/100124.wav',\n",
              " '/content/Male-to-Male-Voice/SM1/100018.wav',\n",
              " '/content/Male-to-Male-Voice/SM1/100091.wav',\n",
              " '/content/Male-to-Male-Voice/SM1/100016.wav',\n",
              " '/content/Male-to-Male-Voice/SM1/100160.wav',\n",
              " '/content/Male-to-Male-Voice/SM1/100077.wav',\n",
              " '/content/Male-to-Male-Voice/SM1/100034.wav',\n",
              " '/content/Male-to-Male-Voice/SM1/100103.wav',\n",
              " '/content/Male-to-Male-Voice/SM1/100135.wav',\n",
              " '/content/Male-to-Male-Voice/SM1/100079.wav',\n",
              " '/content/Male-to-Male-Voice/SM1/100053.wav',\n",
              " '/content/Male-to-Male-Voice/SM1/100092.wav',\n",
              " '/content/Male-to-Male-Voice/SM1/100153.wav',\n",
              " '/content/Male-to-Male-Voice/SM1/100133.wav',\n",
              " '/content/Male-to-Male-Voice/SM1/100095.wav',\n",
              " '/content/Male-to-Male-Voice/SM1/100158.wav',\n",
              " '/content/Male-to-Male-Voice/SM1/100130.wav',\n",
              " '/content/Male-to-Male-Voice/SM1/100060.wav',\n",
              " '/content/Male-to-Male-Voice/SM1/100098.wav',\n",
              " '/content/Male-to-Male-Voice/SM1/100147.wav',\n",
              " '/content/Male-to-Male-Voice/SM1/100032.wav',\n",
              " '/content/Male-to-Male-Voice/SM1/100005.wav',\n",
              " '/content/Male-to-Male-Voice/SM1/100159.wav',\n",
              " '/content/Male-to-Male-Voice/SM1/100039.wav',\n",
              " '/content/Male-to-Male-Voice/SM1/100044.wav',\n",
              " '/content/Male-to-Male-Voice/SM1/100101.wav',\n",
              " '/content/Male-to-Male-Voice/SM1/100049.wav',\n",
              " '/content/Male-to-Male-Voice/SM1/100043.wav',\n",
              " '/content/Male-to-Male-Voice/SM1/100003.wav',\n",
              " '/content/Male-to-Male-Voice/SM1/100013.wav',\n",
              " '/content/Male-to-Male-Voice/SM1/100033.wav',\n",
              " '/content/Male-to-Male-Voice/SM1/100027.wav',\n",
              " '/content/Male-to-Male-Voice/SM1/100090.wav',\n",
              " '/content/Male-to-Male-Voice/SM1/100145.wav',\n",
              " '/content/Male-to-Male-Voice/SM1/100081.wav',\n",
              " '/content/Male-to-Male-Voice/SM1/100136.wav',\n",
              " '/content/Male-to-Male-Voice/SM1/100148.wav',\n",
              " '/content/Male-to-Male-Voice/SM1/100127.wav',\n",
              " '/content/Male-to-Male-Voice/SM1/100075.wav',\n",
              " '/content/Male-to-Male-Voice/SM1/100068.wav',\n",
              " '/content/Male-to-Male-Voice/SM1/100083.wav',\n",
              " '/content/Male-to-Male-Voice/SM1/100017.wav',\n",
              " '/content/Male-to-Male-Voice/SM1/100100.wav',\n",
              " '/content/Male-to-Male-Voice/SM1/100128.wav',\n",
              " '/content/Male-to-Male-Voice/SM1/100088.wav',\n",
              " '/content/Male-to-Male-Voice/SM1/100155.wav',\n",
              " '/content/Male-to-Male-Voice/SM1/100146.wav',\n",
              " '/content/Male-to-Male-Voice/SM1/100011.wav',\n",
              " '/content/Male-to-Male-Voice/SM1/100137.wav',\n",
              " '/content/Male-to-Male-Voice/SM1/100057.wav',\n",
              " '/content/Male-to-Male-Voice/SM1/100064.wav',\n",
              " '/content/Male-to-Male-Voice/SM1/100076.wav',\n",
              " '/content/Male-to-Male-Voice/SM1/100162.wav',\n",
              " '/content/Male-to-Male-Voice/SM1/100096.wav',\n",
              " '/content/Male-to-Male-Voice/SM1/100004.wav',\n",
              " '/content/Male-to-Male-Voice/SM1/100117.wav',\n",
              " '/content/Male-to-Male-Voice/SM1/100001.wav',\n",
              " '/content/Male-to-Male-Voice/SM1/100141.wav',\n",
              " '/content/Male-to-Male-Voice/SM1/100125.wav',\n",
              " '/content/Male-to-Male-Voice/SM1/100042.wav',\n",
              " '/content/Male-to-Male-Voice/SM1/100023.wav',\n",
              " '/content/Male-to-Male-Voice/SM1/100140.wav',\n",
              " '/content/Male-to-Male-Voice/SM1/100074.wav',\n",
              " '/content/Male-to-Male-Voice/SM1/100115.wav',\n",
              " '/content/Male-to-Male-Voice/SM1/100070.wav',\n",
              " '/content/Male-to-Male-Voice/SM1/100015.wav',\n",
              " '/content/Male-to-Male-Voice/SM1/100112.wav',\n",
              " '/content/Male-to-Male-Voice/SM1/100007.wav',\n",
              " '/content/Male-to-Male-Voice/SM1/100038.wav',\n",
              " '/content/Male-to-Male-Voice/SM1/100106.wav',\n",
              " '/content/Male-to-Male-Voice/SM1/100014.wav',\n",
              " '/content/Male-to-Male-Voice/SM1/100045.wav',\n",
              " '/content/Male-to-Male-Voice/SM1/100143.wav',\n",
              " '/content/Male-to-Male-Voice/SM1/100120.wav',\n",
              " '/content/Male-to-Male-Voice/SM1/100122.wav',\n",
              " '/content/Male-to-Male-Voice/SM1/100104.wav',\n",
              " '/content/Male-to-Male-Voice/SM1/100059.wav',\n",
              " '/content/Male-to-Male-Voice/SM1/100069.wav',\n",
              " '/content/Male-to-Male-Voice/SM1/100082.wav',\n",
              " '/content/Male-to-Male-Voice/SM1/100161.wav',\n",
              " '/content/Male-to-Male-Voice/SM1/100116.wav',\n",
              " '/content/Male-to-Male-Voice/SM1/100150.wav',\n",
              " '/content/Male-to-Male-Voice/SM1/100065.wav',\n",
              " '/content/Male-to-Male-Voice/SM1/100022.wav',\n",
              " '/content/Male-to-Male-Voice/SM1/100142.wav',\n",
              " '/content/Male-to-Male-Voice/SM1/100056.wav',\n",
              " '/content/Male-to-Male-Voice/SM1/100009.wav',\n",
              " '/content/Male-to-Male-Voice/SM1/100040.wav',\n",
              " '/content/Male-to-Male-Voice/SM1/100051.wav',\n",
              " '/content/Male-to-Male-Voice/SM1/100110.wav',\n",
              " '/content/Male-to-Male-Voice/SM1/100121.wav',\n",
              " '/content/Male-to-Male-Voice/SM1/100035.wav',\n",
              " '/content/Male-to-Male-Voice/SM1/100047.wav',\n",
              " '/content/Male-to-Male-Voice/SM1/100156.wav',\n",
              " '/content/Male-to-Male-Voice/SM1/100025.wav',\n",
              " '/content/Male-to-Male-Voice/SM1/100036.wav',\n",
              " '/content/Male-to-Male-Voice/SM1/100008.wav',\n",
              " '/content/Male-to-Male-Voice/SM1/100089.wav',\n",
              " '/content/Male-to-Male-Voice/SM1/100129.wav',\n",
              " '/content/Male-to-Male-Voice/SM1/100046.wav',\n",
              " '/content/Male-to-Male-Voice/SM1/100052.wav',\n",
              " '/content/Male-to-Male-Voice/SM1/100126.wav',\n",
              " '/content/Male-to-Male-Voice/SM1/100119.wav',\n",
              " '/content/Male-to-Male-Voice/SM1/100050.wav',\n",
              " '/content/Male-to-Male-Voice/SM1/100021.wav',\n",
              " '/content/Male-to-Male-Voice/SM1/100062.wav',\n",
              " '/content/Male-to-Male-Voice/SM1/100084.wav',\n",
              " '/content/Male-to-Male-Voice/SM1/100078.wav',\n",
              " '/content/Male-to-Male-Voice/SM1/100012.wav',\n",
              " '/content/Male-to-Male-Voice/SM1/100114.wav',\n",
              " '/content/Male-to-Male-Voice/SM1/100138.wav',\n",
              " '/content/Male-to-Male-Voice/SM1/100073.wav',\n",
              " '/content/Male-to-Male-Voice/SM1/100131.wav',\n",
              " '/content/Male-to-Male-Voice/SM1/100113.wav',\n",
              " '/content/Male-to-Male-Voice/SM1/100010.wav',\n",
              " '/content/Male-to-Male-Voice/SM1/100111.wav',\n",
              " '/content/Male-to-Male-Voice/SM1/100031.wav',\n",
              " '/content/Male-to-Male-Voice/SM1/100144.wav',\n",
              " '/content/Male-to-Male-Voice/SM1/100066.wav',\n",
              " '/content/Male-to-Male-Voice/SM1/100029.wav',\n",
              " '/content/Male-to-Male-Voice/SM1/100109.wav',\n",
              " '/content/Male-to-Male-Voice/SM1/100154.wav',\n",
              " '/content/Male-to-Male-Voice/SM1/100071.wav',\n",
              " '/content/Male-to-Male-Voice/SM1/100058.wav',\n",
              " '/content/Male-to-Male-Voice/SM1/100139.wav',\n",
              " '/content/Male-to-Male-Voice/SM1/100019.wav',\n",
              " '/content/Male-to-Male-Voice/SM1/100086.wav',\n",
              " '/content/Male-to-Male-Voice/SM1/100097.wav',\n",
              " '/content/Male-to-Male-Voice/SM1/100055.wav',\n",
              " '/content/Male-to-Male-Voice/SM1/100118.wav',\n",
              " '/content/Male-to-Male-Voice/SM1/100123.wav',\n",
              " '/content/Male-to-Male-Voice/SM1/100024.wav',\n",
              " '/content/Male-to-Male-Voice/SM1/100132.wav',\n",
              " '/content/Male-to-Male-Voice/SM1/100134.wav',\n",
              " '/content/Male-to-Male-Voice/SM1/100085.wav',\n",
              " '/content/Male-to-Male-Voice/SM1/100149.wav',\n",
              " '/content/Male-to-Male-Voice/SM1/100157.wav',\n",
              " '/content/Male-to-Male-Voice/SM1/100006.wav',\n",
              " '/content/Male-to-Male-Voice/SM1/100094.wav',\n",
              " '/content/Male-to-Male-Voice/SM1/100030.wav',\n",
              " '/content/Male-to-Male-Voice/SM1/100028.wav',\n",
              " '/content/Male-to-Male-Voice/SM1/100048.wav',\n",
              " '/content/Male-to-Male-Voice/SM1/100108.wav',\n",
              " '/content/Male-to-Male-Voice/SM1/100102.wav',\n",
              " '/content/Male-to-Male-Voice/SM1/100063.wav',\n",
              " '/content/Male-to-Male-Voice/SM1/100026.wav',\n",
              " '/content/Male-to-Male-Voice/SM1/100152.wav',\n",
              " '/content/Male-to-Male-Voice/SM1/100107.wav',\n",
              " '/content/Male-to-Male-Voice/SM1/100105.wav',\n",
              " '/content/Male-to-Male-Voice/SM1/100037.wav',\n",
              " '/content/Male-to-Male-Voice/SM1/100020.wav',\n",
              " '/content/Male-to-Male-Voice/SM1/100151.wav',\n",
              " '/content/Male-to-Male-Voice/SM1/100093.wav']"
            ]
          },
          "metadata": {},
          "execution_count": 6
        }
      ]
    },
    {
      "cell_type": "code",
      "source": [
        "from tqdm import tnrange\n",
        "fs = 16000\n",
        "frame_period=5.0\n",
        "hop_length = int(fs * (frame_period * 0.001))\n",
        "ms_fftlen = 4096\n",
        "modfs = fs / hop_length\n",
        "ms_freq = np.arange(ms_fftlen//2 + 1)/ms_fftlen * modfs"
      ],
      "metadata": {
        "id": "ftY7X2CCzK3D"
      },
      "execution_count": 7,
      "outputs": []
    },
    {
      "cell_type": "markdown",
      "source": [
        "** Function for computing Static Features using pyworld(WORLD VOCODER)**\n"
      ],
      "metadata": {
        "id": "C3jPVp5q4ynd"
      }
    },
    {
      "cell_type": "code",
      "source": [
        "def compute_static_features(path):\n",
        "    fs, x = wavfile.read(path)\n",
        "    x = x.astype(np.float64)\n",
        "    f0, timeaxis = pyworld.dio(x, fs, frame_period=5.0)\n",
        "    f0 = pyworld.stonemask(x, f0, timeaxis, fs)\n",
        "    spectrogram = pyworld.cheaptrick(x, f0, timeaxis, fs)\n",
        "    aperiodicity = pyworld.d4c(x, f0, timeaxis, fs)\n",
        "    alpha = pysptk.util.mcepalpha(fs)\n",
        "    mc = pysptk.sp2mc(spectrogram, order=24, alpha=alpha)\n",
        "    c0, mc = mc[:, 0], mc[:, 1:]\n",
        "    return mc"
      ],
      "metadata": {
        "id": "1dLWfVy-1C_J"
      },
      "execution_count": 8,
      "outputs": []
    },
    {
      "cell_type": "markdown",
      "source": [
        "**Finding Modulation Spectra**"
      ],
      "metadata": {
        "id": "rCwLPMUb5Hve"
      }
    },
    {
      "cell_type": "code",
      "source": [
        "def modspec(x, n=4096, norm=None, return_phase=False):\n",
        "    \n",
        "    # DFT against time axis\n",
        "    s_complex = np.fft.rfft(x, n=n, axis=0, norm=norm)\n",
        "    assert s_complex.shape[0] == n // 2 + 1\n",
        "    R, im = s_complex.real, s_complex.imag\n",
        "    ms = R * R + im * im\n",
        "\n",
        "    # TODO: this is ugly...\n",
        "    if return_phase:\n",
        "        return ms, np.exp(1.0j * np.angle(s_complex))\n",
        "    else:\n",
        "        return ms"
      ],
      "metadata": {
        "id": "6NSHAMHD1JgK"
      },
      "execution_count": 9,
      "outputs": []
    },
    {
      "cell_type": "markdown",
      "source": [
        "**Function for finding the Mean over all files**"
      ],
      "metadata": {
        "id": "qYSCL8Rw5pRn"
      }
    },
    {
      "cell_type": "code",
      "source": [
        "def mean_modspec(path):\n",
        "    mss = []\n",
        "    for wav in path: \n",
        "        mgc = compute_static_features(wav)\n",
        "        #print(mgc)\n",
        "        #b=log(modspec(mgc, n=ms_fftlen))\n",
        "        #print(b)\n",
        "        #print(np.any(b<=0))\n",
        "\n",
        "    \n",
        "        #print(\"wav\"+)\n",
        "        ms = np.log(modspec(mgc, n=ms_fftlen))\n",
        "        mss.append(ms)\n",
        "        #return mss\n",
        "        return np.mean(np.array(mss), axis=(0,))"
      ],
      "metadata": {
        "id": "xyWBBx-S1QSi"
      },
      "execution_count": 10,
      "outputs": []
    },
    {
      "cell_type": "code",
      "source": [
        "ms_into2out_orig=mean_modspec(orig_wav_files)"
      ],
      "metadata": {
        "id": "FBT2XEZB2so8"
      },
      "execution_count": 11,
      "outputs": []
    },
    {
      "cell_type": "code",
      "source": [
        "ms_into2out_synth=mean_modspec(synth_wav_files)"
      ],
      "metadata": {
        "id": "qVH-pmoC47-6"
      },
      "execution_count": 12,
      "outputs": []
    },
    {
      "cell_type": "markdown",
      "source": [
        "**Calculating the Modulation Spectra Distance**"
      ],
      "metadata": {
        "id": "yfGksX3o6BEq"
      }
    },
    {
      "cell_type": "code",
      "source": [
        "import math\n",
        "new=0\n",
        "for i in range(24):\n",
        "    a=ms_into2out_orig[i, :].T\n",
        "    b=ms_into2out_synth[i,:].T\n",
        "    diff=np.mean(np.absolute(a-b))\n",
        "    diff=(np.inner(diff, diff))\n",
        "    new=new+diff\n",
        "\n",
        "\n",
        "MSD=math.sqrt(1/len(mean_modspec(orig_wav_files).T))*math.sqrt(new)\n",
        "print(MSD)"
      ],
      "metadata": {
        "colab": {
          "base_uri": "https://localhost:8080/"
        },
        "id": "DyvE8QmL5Mnl",
        "outputId": "0c2624c3-3674-42e4-815c-1534d588e6c4"
      },
      "execution_count": 20,
      "outputs": [
        {
          "output_type": "stream",
          "name": "stdout",
          "text": [
            "1.3962559058787383\n"
          ]
        }
      ]
    }
  ]
}
