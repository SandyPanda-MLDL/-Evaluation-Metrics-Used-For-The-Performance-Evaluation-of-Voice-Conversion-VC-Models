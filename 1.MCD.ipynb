{
  "nbformat": 4,
  "nbformat_minor": 0,
  "metadata": {
    "colab": {
      "name": "MCD_final",
      "provenance": [],
      "collapsed_sections": []
    },
    "kernelspec": {
      "name": "python3",
      "display_name": "Python 3"
    },
    "language_info": {
      "name": "python"
    }
  },
  "cells": [
    {
      "cell_type": "markdown",
      "source": [
        "# Mel-Cepstral Distortion (MCD)"
      ],
      "metadata": {
        "id": "PkJLlSsdryA5"
      }
    },
    {
      "cell_type": "markdown",
      "source": [
        "Loading the zipped Data:"
      ],
      "metadata": {
        "id": "kIRQBMfYr1jR"
      }
    },
    {
      "cell_type": "code",
      "execution_count": 1,
      "metadata": {
        "colab": {
          "base_uri": "https://localhost:8080/"
        },
        "id": "Naf7f3ld4y12",
        "outputId": "e4f34663-1255-4812-c1fb-3baeabbee7a1"
      },
      "outputs": [
        {
          "output_type": "stream",
          "name": "stdout",
          "text": [
            "Downloading 128wwBM1xqg3_-b1jYorkqDLq6swMatk8 into /content/Dataset... Done.\n",
            "Unzipping...Done.\n"
          ]
        }
      ],
      "source": [
        "from google_drive_downloader.google_drive_downloader import GoogleDriveDownloader as gdd\n",
        "gdd.download_file_from_google_drive(file_id='128wwBM1xqg3_-b1jYorkqDLq6swMatk8', dest_path='/content/Dataset',unzip=True) #add file id which are the characters in the url of the drive link\n",
        "#https://drive.google.com/file/d/128wwBM1xqg3_-b1jYorkqDLq6swMatk8/view?usp=sharing - Bengali to odia"
      ]
    },
    {
      "cell_type": "code",
      "source": [
        "pip install pyworld"
      ],
      "metadata": {
        "colab": {
          "base_uri": "https://localhost:8080/"
        },
        "id": "uv7zjCJnCKJs",
        "outputId": "4431a27e-64c2-4912-9c15-e76e48a5792b"
      },
      "execution_count": 2,
      "outputs": [
        {
          "output_type": "stream",
          "name": "stdout",
          "text": [
            "Collecting pyworld\n",
            "  Downloading pyworld-0.3.0.tar.gz (212 kB)\n",
            "\u001b[?25l\r\u001b[K     |█▌                              | 10 kB 25.0 MB/s eta 0:00:01\r\u001b[K     |███                             | 20 kB 11.0 MB/s eta 0:00:01\r\u001b[K     |████▋                           | 30 kB 8.8 MB/s eta 0:00:01\r\u001b[K     |██████▏                         | 40 kB 8.2 MB/s eta 0:00:01\r\u001b[K     |███████▊                        | 51 kB 4.9 MB/s eta 0:00:01\r\u001b[K     |█████████▎                      | 61 kB 5.1 MB/s eta 0:00:01\r\u001b[K     |██████████▉                     | 71 kB 5.3 MB/s eta 0:00:01\r\u001b[K     |████████████▍                   | 81 kB 5.9 MB/s eta 0:00:01\r\u001b[K     |██████████████                  | 92 kB 4.6 MB/s eta 0:00:01\r\u001b[K     |███████████████▌                | 102 kB 4.9 MB/s eta 0:00:01\r\u001b[K     |█████████████████               | 112 kB 4.9 MB/s eta 0:00:01\r\u001b[K     |██████████████████▌             | 122 kB 4.9 MB/s eta 0:00:01\r\u001b[K     |████████████████████            | 133 kB 4.9 MB/s eta 0:00:01\r\u001b[K     |█████████████████████▋          | 143 kB 4.9 MB/s eta 0:00:01\r\u001b[K     |███████████████████████▏        | 153 kB 4.9 MB/s eta 0:00:01\r\u001b[K     |████████████████████████▊       | 163 kB 4.9 MB/s eta 0:00:01\r\u001b[K     |██████████████████████████▎     | 174 kB 4.9 MB/s eta 0:00:01\r\u001b[K     |███████████████████████████▉    | 184 kB 4.9 MB/s eta 0:00:01\r\u001b[K     |█████████████████████████████▍  | 194 kB 4.9 MB/s eta 0:00:01\r\u001b[K     |███████████████████████████████ | 204 kB 4.9 MB/s eta 0:00:01\r\u001b[K     |████████████████████████████████| 212 kB 4.9 MB/s \n",
            "\u001b[?25h  Installing build dependencies ... \u001b[?25l\u001b[?25hdone\n",
            "  Getting requirements to build wheel ... \u001b[?25l\u001b[?25hdone\n",
            "    Preparing wheel metadata ... \u001b[?25l\u001b[?25hdone\n",
            "Requirement already satisfied: cython>=0.24.0 in /usr/local/lib/python3.7/dist-packages (from pyworld) (0.29.26)\n",
            "Requirement already satisfied: numpy in /usr/local/lib/python3.7/dist-packages (from pyworld) (1.19.5)\n",
            "Building wheels for collected packages: pyworld\n",
            "  Building wheel for pyworld (PEP 517) ... \u001b[?25l\u001b[?25hdone\n",
            "  Created wheel for pyworld: filename=pyworld-0.3.0-cp37-cp37m-linux_x86_64.whl size=609472 sha256=83f7616e4c6e7c640e87740272b784839104a5af16e774ed3a3aae937928a94e\n",
            "  Stored in directory: /root/.cache/pip/wheels/e7/7c/11/c775fffa0e1e7b05a6604b4323408a77f80fb4ab304d96b5c6\n",
            "Successfully built pyworld\n",
            "Installing collected packages: pyworld\n",
            "Successfully installed pyworld-0.3.0\n"
          ]
        }
      ]
    },
    {
      "cell_type": "code",
      "source": [
        "pip install pysptk"
      ],
      "metadata": {
        "colab": {
          "base_uri": "https://localhost:8080/"
        },
        "id": "s884iFWCCdKa",
        "outputId": "3803889e-367d-43a9-d48e-da6ff572691f"
      },
      "execution_count": 3,
      "outputs": [
        {
          "output_type": "stream",
          "name": "stdout",
          "text": [
            "Collecting pysptk\n",
            "  Downloading pysptk-0.1.20.tar.gz (410 kB)\n",
            "\u001b[?25l\r\u001b[K     |▉                               | 10 kB 19.8 MB/s eta 0:00:01\r\u001b[K     |█▋                              | 20 kB 22.9 MB/s eta 0:00:01\r\u001b[K     |██▍                             | 30 kB 21.3 MB/s eta 0:00:01\r\u001b[K     |███▏                            | 40 kB 13.2 MB/s eta 0:00:01\r\u001b[K     |████                            | 51 kB 6.1 MB/s eta 0:00:01\r\u001b[K     |████▉                           | 61 kB 5.6 MB/s eta 0:00:01\r\u001b[K     |█████▋                          | 71 kB 5.9 MB/s eta 0:00:01\r\u001b[K     |██████▍                         | 81 kB 6.5 MB/s eta 0:00:01\r\u001b[K     |███████▏                        | 92 kB 6.8 MB/s eta 0:00:01\r\u001b[K     |████████                        | 102 kB 5.7 MB/s eta 0:00:01\r\u001b[K     |████████▉                       | 112 kB 5.7 MB/s eta 0:00:01\r\u001b[K     |█████████▋                      | 122 kB 5.7 MB/s eta 0:00:01\r\u001b[K     |██████████▍                     | 133 kB 5.7 MB/s eta 0:00:01\r\u001b[K     |███████████▏                    | 143 kB 5.7 MB/s eta 0:00:01\r\u001b[K     |████████████                    | 153 kB 5.7 MB/s eta 0:00:01\r\u001b[K     |████████████▉                   | 163 kB 5.7 MB/s eta 0:00:01\r\u001b[K     |█████████████▋                  | 174 kB 5.7 MB/s eta 0:00:01\r\u001b[K     |██████████████▍                 | 184 kB 5.7 MB/s eta 0:00:01\r\u001b[K     |███████████████▏                | 194 kB 5.7 MB/s eta 0:00:01\r\u001b[K     |████████████████                | 204 kB 5.7 MB/s eta 0:00:01\r\u001b[K     |████████████████▊               | 215 kB 5.7 MB/s eta 0:00:01\r\u001b[K     |█████████████████▋              | 225 kB 5.7 MB/s eta 0:00:01\r\u001b[K     |██████████████████▍             | 235 kB 5.7 MB/s eta 0:00:01\r\u001b[K     |███████████████████▏            | 245 kB 5.7 MB/s eta 0:00:01\r\u001b[K     |████████████████████            | 256 kB 5.7 MB/s eta 0:00:01\r\u001b[K     |████████████████████▊           | 266 kB 5.7 MB/s eta 0:00:01\r\u001b[K     |█████████████████████▋          | 276 kB 5.7 MB/s eta 0:00:01\r\u001b[K     |██████████████████████▍         | 286 kB 5.7 MB/s eta 0:00:01\r\u001b[K     |███████████████████████▏        | 296 kB 5.7 MB/s eta 0:00:01\r\u001b[K     |████████████████████████        | 307 kB 5.7 MB/s eta 0:00:01\r\u001b[K     |████████████████████████▊       | 317 kB 5.7 MB/s eta 0:00:01\r\u001b[K     |█████████████████████████▋      | 327 kB 5.7 MB/s eta 0:00:01\r\u001b[K     |██████████████████████████▍     | 337 kB 5.7 MB/s eta 0:00:01\r\u001b[K     |███████████████████████████▏    | 348 kB 5.7 MB/s eta 0:00:01\r\u001b[K     |████████████████████████████    | 358 kB 5.7 MB/s eta 0:00:01\r\u001b[K     |████████████████████████████▊   | 368 kB 5.7 MB/s eta 0:00:01\r\u001b[K     |█████████████████████████████▋  | 378 kB 5.7 MB/s eta 0:00:01\r\u001b[K     |██████████████████████████████▍ | 389 kB 5.7 MB/s eta 0:00:01\r\u001b[K     |███████████████████████████████▏| 399 kB 5.7 MB/s eta 0:00:01\r\u001b[K     |████████████████████████████████| 409 kB 5.7 MB/s eta 0:00:01\r\u001b[K     |████████████████████████████████| 410 kB 5.7 MB/s \n",
            "\u001b[?25h  Installing build dependencies ... \u001b[?25l\u001b[?25hdone\n",
            "  Getting requirements to build wheel ... \u001b[?25l\u001b[?25hdone\n",
            "    Preparing wheel metadata ... \u001b[?25l\u001b[?25hdone\n",
            "Requirement already satisfied: cython>=0.28.0 in /usr/local/lib/python3.7/dist-packages (from pysptk) (0.29.26)\n",
            "Requirement already satisfied: six in /usr/local/lib/python3.7/dist-packages (from pysptk) (1.15.0)\n",
            "Requirement already satisfied: decorator in /usr/local/lib/python3.7/dist-packages (from pysptk) (4.4.2)\n",
            "Requirement already satisfied: scipy in /usr/local/lib/python3.7/dist-packages (from pysptk) (1.4.1)\n",
            "Requirement already satisfied: numpy>=1.13.3 in /usr/local/lib/python3.7/dist-packages (from scipy->pysptk) (1.19.5)\n",
            "Building wheels for collected packages: pysptk\n",
            "  Building wheel for pysptk (PEP 517) ... \u001b[?25l\u001b[?25hdone\n",
            "  Created wheel for pysptk: filename=pysptk-0.1.20-cp37-cp37m-linux_x86_64.whl size=929914 sha256=42df9398b30e52c5e3723b5df28d53e89ceaa61c4fef7e4035edb38022a27c67\n",
            "  Stored in directory: /root/.cache/pip/wheels/dd/37/3f/7583b00bf73e73650aad5d268ee46b95dbd6dffbd237e1bf58\n",
            "Successfully built pysptk\n",
            "Installing collected packages: pysptk\n",
            "Successfully installed pysptk-0.1.20\n"
          ]
        }
      ]
    },
    {
      "cell_type": "markdown",
      "source": [
        "import libraries"
      ],
      "metadata": {
        "id": "0d-6Dk8Lr4_4"
      }
    },
    {
      "cell_type": "code",
      "source": [
        "import os\n",
        "import math\n",
        "import glob\n",
        "import librosa\n",
        "import pyworld\n",
        "import pysptk\n",
        "import numpy as np\n",
        "import matplotlib.pyplot as plot"
      ],
      "metadata": {
        "id": "uqhwcrwq5l22"
      },
      "execution_count": 4,
      "outputs": []
    },
    {
      "cell_type": "markdown",
      "source": [
        "func for loading wav files"
      ],
      "metadata": {
        "id": "tPWcU_fgr8zI"
      }
    },
    {
      "cell_type": "code",
      "source": [
        "SAMPLING_RATE = 22050\n",
        "FRAME_PERIOD = 5.0\n",
        "\n",
        "def load_wav(wav_file, sr):\n",
        "    \n",
        "    wav, _ = librosa.load(wav_file, sr=sr, mono=True)\n",
        "\n",
        "    return wav"
      ],
      "metadata": {
        "id": "ufzbNhi1-JLk"
      },
      "execution_count": 5,
      "outputs": []
    },
    {
      "cell_type": "markdown",
      "source": [
        "func for the formulation of MCD"
      ],
      "metadata": {
        "id": "KrAAaEslr_oY"
      }
    },
    {
      "cell_type": "code",
      "source": [
        "def MCD(x, y):\n",
        "    log_spec_dB_const = 10.0 / math.log(10.0) * math.sqrt(2.0)\n",
        "    diff = x - y\n",
        "    \n",
        "    return log_spec_dB_const * math.sqrt(np.inner(diff, diff))"
      ],
      "metadata": {
        "id": "h5mRRdAZCu76"
      },
      "execution_count": 6,
      "outputs": []
    },
    {
      "cell_type": "markdown",
      "source": [
        "Loading original and the synthesized speech data\n",
        "\n",
        "* provide the path for the original and synthesized files  "
      ],
      "metadata": {
        "id": "mtnMzwYYsDFp"
      }
    },
    {
      "cell_type": "code",
      "source": [
        "ORIGINAL_PATH ='/content/in male voice Bengali and Odia/R1.Regional_Dataset_Male_Voice_in_Bengali' #copy the path of the folder that contains the .wav files of the oriinal voice\n",
        "SYNTHESIZED_PATH = '/content/in male voice Bengali and Odia/converted_Bengali' #copy the path of the folder that contains the .wav files of the generated voice"
      ],
      "metadata": {
        "id": "8NJo5qPwRhTH"
      },
      "execution_count": 7,
      "outputs": []
    },
    {
      "cell_type": "code",
      "source": [
        "Org_speech_wav_file_paths = glob.glob(ORIGINAL_PATH+'/*')\n",
        "Synth_speech_wav_file_paths = glob.glob(SYNTHESIZED_PATH+'/*')\n",
        "\n",
        "Org_speech_wav_file_paths[:]\n"
      ],
      "metadata": {
        "colab": {
          "base_uri": "https://localhost:8080/"
        },
        "id": "IaBfatscCx0y",
        "outputId": "ee725091-df4d-41f8-ea5f-73beb20c8fef"
      },
      "execution_count": 8,
      "outputs": [
        {
          "output_type": "execute_result",
          "data": {
            "text/plain": [
              "['/content/in male voice Bengali and Odia/R1.Regional_Dataset_Male_Voice_in_Bengali/VCC 15.wav',\n",
              " '/content/in male voice Bengali and Odia/R1.Regional_Dataset_Male_Voice_in_Bengali/VCC 9.wav',\n",
              " '/content/in male voice Bengali and Odia/R1.Regional_Dataset_Male_Voice_in_Bengali/VCC 14.wav',\n",
              " '/content/in male voice Bengali and Odia/R1.Regional_Dataset_Male_Voice_in_Bengali/VCC 6.wav',\n",
              " '/content/in male voice Bengali and Odia/R1.Regional_Dataset_Male_Voice_in_Bengali/VCC 7.wav',\n",
              " '/content/in male voice Bengali and Odia/R1.Regional_Dataset_Male_Voice_in_Bengali/VCC 11.wav',\n",
              " '/content/in male voice Bengali and Odia/R1.Regional_Dataset_Male_Voice_in_Bengali/VCC 10.wav',\n",
              " '/content/in male voice Bengali and Odia/R1.Regional_Dataset_Male_Voice_in_Bengali/VCC 18.wav',\n",
              " '/content/in male voice Bengali and Odia/R1.Regional_Dataset_Male_Voice_in_Bengali/VCC 13.wav',\n",
              " '/content/in male voice Bengali and Odia/R1.Regional_Dataset_Male_Voice_in_Bengali/VCC1.wav',\n",
              " '/content/in male voice Bengali and Odia/R1.Regional_Dataset_Male_Voice_in_Bengali/VCC 5.wav',\n",
              " '/content/in male voice Bengali and Odia/R1.Regional_Dataset_Male_Voice_in_Bengali/VCC 3.wav',\n",
              " '/content/in male voice Bengali and Odia/R1.Regional_Dataset_Male_Voice_in_Bengali/VCC 16.wav',\n",
              " '/content/in male voice Bengali and Odia/R1.Regional_Dataset_Male_Voice_in_Bengali/VCC 8.wav',\n",
              " '/content/in male voice Bengali and Odia/R1.Regional_Dataset_Male_Voice_in_Bengali/VCC 4.wav',\n",
              " '/content/in male voice Bengali and Odia/R1.Regional_Dataset_Male_Voice_in_Bengali/VCC 12.wav',\n",
              " '/content/in male voice Bengali and Odia/R1.Regional_Dataset_Male_Voice_in_Bengali/VCC 20.wav',\n",
              " '/content/in male voice Bengali and Odia/R1.Regional_Dataset_Male_Voice_in_Bengali/VCC 17.wav',\n",
              " '/content/in male voice Bengali and Odia/R1.Regional_Dataset_Male_Voice_in_Bengali/VCC 19.wav',\n",
              " '/content/in male voice Bengali and Odia/R1.Regional_Dataset_Male_Voice_in_Bengali/VCC2.wav']"
            ]
          },
          "metadata": {},
          "execution_count": 8
        }
      ]
    },
    {
      "cell_type": "markdown",
      "source": [
        "func for extracting MCEP features (using WORLD analyzer)"
      ],
      "metadata": {
        "id": "ELMUv_BgsHVp"
      }
    },
    {
      "cell_type": "code",
      "source": [
        "def MCEP(wavfile, mcep_target_directory, alpha=0.65, fft_size=512, mcep_size=24):\n",
        "    \n",
        "    if not os.path.exists(mcep_target_directory):\n",
        "        os.makedirs(mcep_target_directory)\n",
        "\n",
        "    loaded_wav_file = load_wav(wavfile, sr=SAMPLING_RATE)\n",
        "\n",
        "   \n",
        "    _, spectral_envelop, _ = pyworld.wav2world(loaded_wav_file.astype(np.double), fs=SAMPLING_RATE,\n",
        "                                   frame_period=FRAME_PERIOD, fft_size=fft_size)\n",
        "\n",
        "    \n",
        "    mcep = pysptk.sptk.mcep(spectral_envelop, order=mcep_size, alpha=alpha, maxiter=0,\n",
        "                           etype=1, eps=1.0E-8, min_det=0.0, itype=3)\n",
        "\n",
        "    fname = os.path.basename(wavfile).split('.')[0]\n",
        "    np.save(os.path.join(mcep_target_directory, fname + '.npy'),\n",
        "            mcep,\n",
        "            allow_pickle=False)"
      ],
      "metadata": {
        "id": "Q12roHhyDVdb"
      },
      "execution_count": 9,
      "outputs": []
    },
    {
      "cell_type": "markdown",
      "source": [
        "storing the mcep features as npy files"
      ],
      "metadata": {
        "id": "hVhaKQcHsLHo"
      }
    },
    {
      "cell_type": "code",
      "source": [
        "alpha = 0.65  \n",
        "fft_size = 512\n",
        "mcep_size = 24\n",
        "\n",
        "dir_org_speech_wav = glob.glob(ORIGINAL_PATH+'/*')\n",
        "dir_org_speech_mcep = ORIGINAL_PATH+'/mceps_trg'\n",
        "dir_converted_speech_wav = glob.glob(SYNTHESIZED_PATH+'/*')\n",
        "dir_converted_speech_mcep =SYNTHESIZED_PATH+'/mceps_conv'\n",
        "\n",
        "for wav in dir_org_speech_wav:\n",
        "    MCEP(wav, dir_org_speech_mcep, fft_size=fft_size, mcep_size=mcep_size)\n",
        "\n",
        "for wav in dir_converted_speech_wav:\n",
        "    MCEP(wav, dir_converted_speech_mcep, fft_size=fft_size, mcep_size=mcep_size)"
      ],
      "metadata": {
        "id": "NmbN8g4ODaKS"
      },
      "execution_count": 10,
      "outputs": []
    },
    {
      "cell_type": "markdown",
      "source": [
        "MCD calculation calculation using DTW ( Dynamic Time Warping )"
      ],
      "metadata": {
        "id": "U-r9fKZbsNfB"
      }
    },
    {
      "cell_type": "code",
      "source": [
        "def mcd_cal(mcep_org_files, mcep_synth_files, MCD):\n",
        "    min_cost_tot = 0.0\n",
        "    total_frames = 0\n",
        "    \n",
        "    for i in mcep_org_files:\n",
        "        x=0\n",
        "        for j in mcep_synth_files:\n",
        "            \n",
        "            split_org_file,  split_synth_file = os.path.basename(i).split('_'), os.path.basename(j).split('_')\n",
        "            org_speaker, org_speaker_id = split_org_file[0], split_org_file[-1]\n",
        "            synth_speaker, synth_speaker_id = split_synth_file[0], split_synth_file[-1]\n",
        "            \n",
        "            x+=1\n",
        "            if org_speaker==synth_speaker and org_speaker_id==synth_speaker_id:\n",
        "                \n",
        "                org_mcep_npy=np.load(i)\n",
        "            \n",
        "                frame_no = len(org_mcep_npy)\n",
        "                synth_mcep_npy = np.load(j)\n",
        "                \n",
        "                min_cost, _ = librosa.sequence.dtw(org_mcep_npy[:, 1:].T, synth_mcep_npy[:, 1:].T, \n",
        "                                                   metric=MCD)\n",
        "    \n",
        "                min_cost_tot += np.mean(min_cost)\n",
        "                \n",
        "                total_frames += frame_no\n",
        "                \n",
        "                #print(j,\"    \",i,\"     \",x,\"   \",min_cost_tot,\"   \",total_frames)\n",
        "                \n",
        "    mcd = min_cost_tot/total_frames\n",
        "    return mcd, total_frames"
      ],
      "metadata": {
        "id": "WHFqJk9aDdNL"
      },
      "execution_count": 11,
      "outputs": []
    },
    {
      "cell_type": "markdown",
      "source": [
        "Code execution for MCD calculation between original and converted speech"
      ],
      "metadata": {
        "id": "b9FHjVYRsQWY"
      }
    },
    {
      "cell_type": "code",
      "source": [
        "org_file = glob.glob(ORIGINAL_PATH+'/mceps_trg/*')\n",
        "synth_file= glob.glob(SYNTHESIZED_PATH+'/mceps_conv/*')\n",
        "\n",
        "cost_function = MCD\n",
        "\n",
        "mcd, frames_used = mcd_cal(org_file, synth_file, cost_function)\n",
        "\n",
        "\n",
        "\n",
        "print(f' MCD = {mcd} dB and total of frames {frames_used}')"
      ],
      "metadata": {
        "id": "P0sU6J9bDh1C",
        "colab": {
          "base_uri": "https://localhost:8080/"
        },
        "outputId": "5969ddc3-5974-4c1e-dfc8-c0a9c869ea21"
      },
      "execution_count": 13,
      "outputs": [
        {
          "output_type": "stream",
          "name": "stdout",
          "text": [
            " MCD = 7.075041897682486 dB and total of frames 31512\n"
          ]
        }
      ]
    }
  ]
}